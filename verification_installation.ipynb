{
 "cells": [
  {
   "cell_type": "markdown",
   "metadata": {},
   "source": [
    "# Vérification de l'environnement d'analyse textuelle\n",
    "\n",
    "Ce notebook permet de vérifier que toutes les bibliothèques nécessaires sont correctement installées."
   ]
  },
  {
   "cell_type": "code",
   "execution_count": null,
   "metadata": {},
   "source": [
    "# Importation des bibliothèques\n",
    "import sys\n",
    "print(f\"Version Python: {sys.version}\")\n",
    "\n",
    "# Bibliothèques standard\n",
    "import numpy as np\n",
    "import pandas as pd\n",
    "import matplotlib.pyplot as plt\n",
    "import seaborn as sns\n",
    "\n",
    "# Bibliothèques NLP\n",
    "import nltk\n",
    "import spacy\n",
    "import gensim\n",
    "from textblob import TextBlob\n",
    "from wordcloud import WordCloud\n",
    "\n",
    "print(\"Toutes les bibliothèques sont correctement installées!\")"
   ]
  },
  {
   "cell_type": "code",
   "execution_count": null,
   "metadata": {},
   "source": [
    "# Téléchargement des ressources NLTK nécessaires\n",
    "nltk.download('punkt')\n",
    "nltk.download('stopwords')\n",
    "nltk.download('wordnet')\n",
    "nltk.download('averaged_perceptron_tagger')\n",
    "\n",
    "# Chargement des modèles spaCy\n",
    "try:\n",
    "    nlp_fr = spacy.load('fr_core_news_sm')\n",
    "    print(\"Modèle français chargé avec succès!\")\n",
    "except:\n",
    "    print(\"Installation du modèle français...\")\n",
    "    !python -m spacy download fr_core_news_sm\n",
    "    nlp_fr = spacy.load('fr_core_news_sm')\n",
    "    print(\"Modèle français installé avec succès!\")"
   ]
  },
  {
   "cell_type": "code",
   "execution_count": null,
   "metadata": {},
   "source": [
    "# Test rapide avec un texte en français\n",
    "texte = \"Victor Hugo est l'un des plus importants écrivains de langue française du XIXe siècle.\"\n",
    "doc = nlp_fr(texte)\n",
    "\n",
    "print(\"Analyse syntaxique:\")\n",
    "for token in doc:\n",
    "    print(f\"{token.text:<15} - {token.pos_:<10} - {token.dep_:<10}\")"
   ]
  }
 ],
 "metadata": {
  "kernelspec": {
   "display_name": "Python 3",
   "language": "python",
   "name": "python3"
  },
  "language_info": {
   "codemirror_mode": {
    "name": "ipython",
    "version": 3
   },
   "file_extension": ".py",
   "mimetype": "text/x-python",
   "name": "python",
   "nbconvert_exporter": "python",
   "pygments_lexer": "ipython3",
   "version": "3.10.6"
  }
 },
 "nbformat": 4,
 "nbformat_minor": 4
}
