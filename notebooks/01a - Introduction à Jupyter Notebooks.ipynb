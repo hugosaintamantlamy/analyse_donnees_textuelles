{
 "cells": [
  {
   "cell_type": "markdown",
   "id": "b5c69ff3-180b-493b-b2e7-48dedeb776c6",
   "metadata": {},
   "source": [
    "# Qu'est-ce qu'un Jupyter Notebook?\n",
    "\n",
    "Bienvenue dans l'environnement Jupyter Notebook! \n",
    "\n",
    "Ce premier document vous explique ce qu'est un Jupyter Notebook et comment l'utiliser.\n",
    "\n",
    "## 1. Définition\n",
    "\n",
    "Un **Jupyter Notebook** est un environnement de développement interactif qui permet de créer et partager des documents contenant :\n",
    "\n",
    "- Du code exécutable\n",
    "- Du texte formaté (Markdown)\n",
    "- Des équations mathématiques\n",
    "- Des visualisations\n",
    "- Des médias (images, vidéos, etc.)\n",
    "\n",
    "Le nom **Jupyter** vient de la combinaison de trois langages de programmation principaux :\n",
    "\n",
    "- **Ju**lia\n",
    "- **Pyt**hon\n",
    "- **R**\n",
    "\n",
    "\n",
    "\n",
    "## 2. Structure d'un Notebook\n",
    "\n",
    "Un Jupyter Notebook est composé de **cellules** de différents types :\n",
    "\n",
    "**Types de cellules :**\n",
    "- Cellules Markdown : Contiennent du texte formaté\n",
    "- Cellules de code : Contiennent du code exécutable\n",
    "- Cellules Raw : Contiennent du texte brut (non formaté)\n",
    "\n",
    "Le type d'une cellule donnée s'affiche dans le menu du haut lorsque vous cliquez sur elle.\n",
    "\n",
    "\n",
    "\n",
    "\n",
    "\n",
    "\n"
   ]
  },
  {
   "cell_type": "markdown",
   "id": "d85ec708-95f9-4386-b53b-d50f71142542",
   "metadata": {},
   "source": [
    "### Exemple de cellule en Markdown  \n",
    "\n",
    "Le markdown est un système de notation développé par John Gruber. Il permet de formater du texte de manière simple et lisible, même dans sa forme brute.              \n",
    "\n",
    "\n",
    "\n",
    "# P. ex.\n",
    "## le Markdown\n",
    "### permet d'afficher\n",
    "#### différents niveaux de titres     \n",
    "\n",
    "\n",
    "\n",
    "Il permet aussi de placer du texte en **gras** ou en *italique*, ou même ***les deux***. On peut aussi facilement créer :\n",
    "- des\n",
    "- listes\n",
    "- d'éléments  \n",
    "\n",
    "\n",
    "\n",
    "1. Que celles-ci\n",
    "2. soient\n",
    "3. numérotées\n",
    "   1. ou\n",
    "   2. non  \n",
    "\n",
    "\n",
    "\n",
    "| Le Markdown | permet | également |\n",
    "|:-----------|:---------:|----------:|\n",
    "| d'afficher   | des    | tableaux    |\n",
    "| avec cellules justifiées à gauche   | au centre  | ou à droite   |  \n",
    "\n",
    "\n",
    "\n",
    "\n",
    "> On peut également utiliser le Markdown pour afficher des citations et ainsi mieux les distinguer du reste du texte.    \n"
   ]
  },
  {
   "cell_type": "raw",
   "id": "966412eb-efba-4572-8dcf-5f7b2fbd9252",
   "metadata": {},
   "source": [
    "### Exemple de cellule en Markdown  \n",
    "\n",
    "Le markdown est un système de notation développé par John Gruber. Il permet de formater du texte de manière simple et lisible, même dans sa forme brute.              \n",
    "\n",
    "\n",
    "\n",
    "# P. ex.\n",
    "## le Markdown\n",
    "### permet d'afficher\n",
    "#### différents niveaux de titres     \n",
    "\n",
    "\n",
    "\n",
    "Il permet aussi de placer du texte en **gras** ou en *italique*, ou même ***les deux***. On peut aussi facilement créer :\n",
    "- des\n",
    "- listes\n",
    "- d'éléments  \n",
    "\n",
    "\n",
    "\n",
    "1. Que celles-ci\n",
    "2. soient\n",
    "3. numérotées\n",
    "   1. ou\n",
    "   2. non  \n",
    "\n",
    "\n",
    "\n",
    "| Le Markdown | permet | également |\n",
    "|:-----------|:---------:|----------:|\n",
    "| d'afficher   | des    | tableaux    |\n",
    "| avec cellules justifiées à gauche   | au centre  | ou à droite   |  \n",
    "\n",
    "\n",
    "\n",
    "\n",
    "> On peut également utiliser le Markdown pour afficher des citations et ainsi mieux les distinguer du reste du texte.    \n"
   ]
  },
  {
   "cell_type": "markdown",
   "id": "f271b52e-be9f-4636-b97f-85746f9c69e7",
   "metadata": {},
   "source": [
    "## 3. Pourquoi Jupyter Notebook?\n",
    "\n",
    "Nous allons utiliser les Notebooks car ils sont une façon relativement aisée d'utiliser l'environnement de programmation Python. Nous présenterons Python plus en détail dans un instant, mais en attendant, regardons simplement comment fonctionnent les cellules de type **code**. Cliquez dans la cellule qui suit, et faites *Run this cell* (⏵).  "
   ]
  },
  {
   "cell_type": "code",
   "execution_count": 3,
   "id": "4fe88947-4e1a-4fc2-83c5-a014f99fe919",
   "metadata": {},
   "outputs": [
    {
     "name": "stdout",
     "output_type": "stream",
     "text": [
      "Patate\n"
     ]
    }
   ],
   "source": [
    "print(\"Patate\")"
   ]
  },
  {
   "cell_type": "markdown",
   "id": "5cdecda3-982a-487c-aae9-2213155a62aa",
   "metadata": {
    "jp-MarkdownHeadingCollapsed": true
   },
   "source": [
    "#### Rassurez-vous\n",
    "Vous n'aurez pas à créer vous-mêmes de fichiers Notebooks. Ils sont seulement une façon simple d'utiliser le langage de programmation Python, sans tous les tracas liés à l'installation et à la gestion des bibliothèques (ensembles de fonctionnalités additionnelles importées pour accomplir différentes tâches dans Python)."
   ]
  },
  {
   "cell_type": "markdown",
   "id": "7c82b699-0cd8-4804-b281-ffea6e8b31a9",
   "metadata": {},
   "source": [
    "## 4. La gestion des fichiers\n",
    "\n",
    "L'accès aux Notebooks se fait via l'interface Binder, qui permet à plusieurs utilisateurs de lire et modifier des fichiers Jupyter. \n",
    "\n",
    "**Attention**, les modifications que vous faites ne s'appliquent qu'à **vos** versions des fichiers. Ces modifications s'effacent lorsque vous fermez Binder. Si vous souhaitez conserver les modifications apportées, assurez-vous d'effectuer une sauvegarde sur votre machine.\n",
    "\n",
    "### Savegarde d'un fichier\n",
    "- Assurez-vous que la barre latérale est ouverte (icone 📁)\n",
    "- Localisez votre fichier dans la liste\n",
    "- Faites un clic droit sur le fichier et faites *Dowload\"\n",
    "- Choisissez un emplacement sûr où enregistrer le fichier\n",
    "\n",
    "### Ouverture d'un fichier \n",
    "- En haut de la barre latérale, faites *Upload files* (icone flèche montante)\n",
    "- Retrouvez le fichier sur votre machine et faites 'Ouvrir'\n",
    "- Le fichier devrait apparaître dans la liste\n",
    "\n",
    " "
   ]
  },
  {
   "cell_type": "markdown",
   "id": "b65430ac-1336-4e4d-85bd-49e9f0e4681e",
   "metadata": {},
   "source": []
  },
  {
   "cell_type": "code",
   "execution_count": null,
   "id": "babf3ce2-1527-4100-8665-af4bc0b67698",
   "metadata": {},
   "outputs": [],
   "source": []
  }
 ],
 "metadata": {
  "kernelspec": {
   "display_name": "Python 3 (ipykernel)",
   "language": "python",
   "name": "python3"
  },
  "language_info": {
   "codemirror_mode": {
    "name": "ipython",
    "version": 3
   },
   "file_extension": ".py",
   "mimetype": "text/x-python",
   "name": "python",
   "nbconvert_exporter": "python",
   "pygments_lexer": "ipython3",
   "version": "3.11.7"
  }
 },
 "nbformat": 4,
 "nbformat_minor": 5
}
