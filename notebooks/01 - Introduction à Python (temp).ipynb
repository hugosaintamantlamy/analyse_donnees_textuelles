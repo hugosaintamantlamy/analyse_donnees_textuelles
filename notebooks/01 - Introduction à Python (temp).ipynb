{
 "cells": [
  {
   "cell_type": "markdown",
   "metadata": {},
   "source": [
    "# Notions fondamentales en Python\n",
    "\n",
    "Bienvenue dans ce notebook d'introduction à Python! Nous allons y faire un survol des notions de base de ce langage de programmation. N'hésitez pas à modifier les cellules de code pour voir concrètement comment ces notions sont mises en application.\n",
    "\n",
    "## Objectifs\n",
    "- Comprendre ce qu'est un langage de programmation\n",
    "- Découvrir Python et ses avantages pour l'analyse de texte\n",
    "- Apprendre les bases : variables, types de données, structures de contrôle\n",
    "- Manipuler des données simples\n",
    "\n",
    "---"
   ]
  },
  {
   "cell_type": "markdown",
   "metadata": {},
   "source": [
    "## 1. Qu'est-ce qu'un langage de programmation?\n",
    "\n",
    "Un **langage de programmation** est un moyen de communiquer avec un ordinateur en lui donnant des instructions précises et explicites. Dans les dernières années, la montée en popularité ds Grands Modèles de Langage (ou *Large Language Models*, LLM) a rendu presque anodin le fait de communiquer avec l'ordinateur à l'aide de langues naturelles (p. ex. anglais, français, swahili). Le recours aux langages de programmation reste toutefois essentiel dans certains domaines, notamment parce qu'il assure une reproductibilité des résultats et un contrôle complet sur le comportement de la machine.\n",
    "\n",
    "**Comparaison avec le langage naturel :** \n",
    "- Comme une langue naturelle, un langage de programmation a un **lexique** et une **syntaxe**\n",
    "- Une erreur lexicale ou syntaxique peut causer une défaillance de la communication\n",
    "- Alors que les langues naturelles sont assez résilientes face aux erreurs, les langages de programmation y sont très sensibles\n",
    "- Contrairement à un message communiqué à un-e interlocuteur/trice humain-e, le code envoyé à la machine doit être « parfait », il faut donc porter une attention particulière à la forme et au contenu des instructions que nous envoyons à l'ordinateur\n",
    "\n",
    "**Quelques applications dans le domaine des lettres :**\n",
    "- Analyse de textes littéraires (fréquence des mots, style)\n",
    "- Création de bases de données d'œuvres\n",
    "- Annotation (semi-)automatisée de documents\n",
    "- Automatisation de tâches répétitives de recherche\n",
    "- ...\n",
    "\n",
    "---"
   ]
  },
  {
   "cell_type": "markdown",
   "metadata": {},
   "source": [
    "## 2. Python : un langage accessible\n",
    "\n",
    "Python est un langage de programmation créé en 1991 par Guido van Rossum. Il tire son nom du collectif d'humoristes britanniques Monty Python.\n",
    "\n",
    "**Avantages de Python pour le cours**\n",
    "- **Facile d'accès** : les bases du langage peuvent s'apprendre (relativement) rapidement\n",
    "- **Lisible** : le lexique (tiré de l'anglais) est assez transparent \n",
    "- **Polyvalent** : nombreuses fonctionnalités pour le traitement de texte, l'analyse de données, etc.\n",
    "- **Riche en bibliothèques** : plusieurs outils spécialisés pour l'analyse textuelle\n",
    "- **Communauté active** : beaucoup de ressources et d'aide disponible\n",
    "\n",
    "---"
   ]
  },
  {
   "cell_type": "markdown",
   "metadata": {},
   "source": [
    "## 3. Une ligne, une instruction\n",
    "\n",
    "En Python, chaque ligne représente une instruction. Comme une phrase dans un texte, elle exprime une idée complète. Python ignore les lignes commençant par le symbole « # ». On peut donc utiliser ce symbole pour « commenter » le code, soit expliquer en langue naturelle ce que le code fait (ou devrait faire). \n",
    "\n",
    "**Principe :** Python lit et exécute le code ligne par ligne, de haut en bas, comme on lit un texte.\n",
    "\n",
    "---"
   ]
  },
  {
   "cell_type": "markdown",
   "metadata": {},
   "source": [
    "## 4. Premier script : la fonction `print()`\n",
    "\n",
    "La fonction `print()` (*imprimer*) permet d'afficher du texte à l'écran.\n",
    "\n",
    "**Syntaxe :** `print(\"votre texte ici\")`"
   ]
  },
  {
   "cell_type": "code",
   "execution_count": null,
   "metadata": {},
   "outputs": [],
   "source": [
    "# UN PREMIER SCRIPT\n",
    "# Vous êtes prêt-e-s à créer votre premier script Python. \n",
    "# Nous allons illustrer la fonction 'print', qui permet d'afficher quelque chose.\n",
    "# Écrivez n'importe quoi entre les guillemets et faites Shift+Enter (ou le petit ⏵ dans le menu du haut)\n",
    "\n",
    "print(\"Salut\")"
   ]
  },
  {
   "cell_type": "code",
   "execution_count": null,
   "metadata": {},
   "outputs": [],
   "source": [
    "# Exemple du traitement ligne par ligne\n",
    "\n",
    "print(\"Salut\")\n",
    "print(\"vous-autres!\")\n",
    "print(\"Comment ça va?\")"
   ]
  },
  {
   "cell_type": "code",
   "execution_count": null,
   "metadata": {},
   "outputs": [],
   "source": [
    "# On remarquera que la fonction print peut prendre plusieurs variables, séparées par des virgules. Que se passe-t-il alors?\n",
    "\n",
    "print(\"a\", \"b\", \"c\", \"d\")"
   ]
  },
  {
   "cell_type": "markdown",
   "metadata": {},
   "source": [
    "---"
   ]
  },
  {
   "cell_type": "markdown",
   "metadata": {},
   "source": [
    "## 5. Types primitifs en Python\n",
    "\n",
    "Python peut traiter différents types de données. "
   ]
  },
  {
   "cell_type": "markdown",
   "metadata": {},
   "source": [
    "### 5.1 Les chaînes de caractères (`str`)\n",
    "\n",
    "Les chaînes (*strings*) représentent du texte. Elles peuvent être très courtes (ou même vides), ou très longues (un roman entier). Le chaînes sont toujours délimitées par des guillemets (simples, doubles triples). "
   ]
  },
  {
   "cell_type": "code",
   "execution_count": null,
   "metadata": {},
   "outputs": [],
   "source": [
    "# Différentes façons d'écrire des chaînes\n",
    "print(\"Hubert Aquin\")\n",
    "print(\"\")\n",
    "print('Prochain épisode')\n",
    "print('')\n",
    "print(\"\"\" \"\"\")\n",
    "print('''Cuba coule en flammes au \n",
    "milieu du lac Léman pendant que je \n",
    "descends au fond des choses.''')\n"
   ]
  },
  {
   "cell_type": "markdown",
   "metadata": {},
   "source": [
    "### 5.2 Les nombres entiers (`int`)\n",
    "\n",
    "Les nombres entiers (*integers*) sont des nombres sans partie fractionnaire (décimale). Les nombres entiers peuvent être négatifs ou positifs (ou zéro). Contrairement aux chaînes, les nombres ne sont pas placés entre guillemets. Ils sont souvent utilisés pour référer au rang d'un item dans un ensemble (p. ex. numéro de page). "
   ]
  },
  {
   "cell_type": "code",
   "execution_count": null,
   "metadata": {},
   "outputs": [],
   "source": [
    "# Nombres entiers\n",
    "print(-5)\n",
    "print(0)\n",
    "print(5)"
   ]
  },
  {
   "cell_type": "markdown",
   "metadata": {},
   "source": [
    "### 5.3 Les nombres réels (`float`)\n",
    "\n",
    "Les nombres réels (*floats*) sont des nombres dotés d'une partie fractionnaire (décimale). On utilise le point pour délimiter la partie entière et la partie fractionnaire. Ils sont souvent utilisés pour des mesures précises (p. ex. fréquences lexicales, pourcentages)."
   ]
  },
  {
   "cell_type": "code",
   "execution_count": null,
   "metadata": {},
   "outputs": [],
   "source": [
    "# Nombres à virgule\n",
    "note_critique = 8.5\n",
    "pourcentage_dialogues = 45.7\n",
    "moyenne_mots_par_page = 250.5\n",
    "\n",
    "print(1.5)\n",
    "print(-2.667)\n",
    "print(0.410984301930190391)"
   ]
  },
  {
   "cell_type": "markdown",
   "metadata": {},
   "source": [
    "### 5.4 Les valeurs booléennes (`bool`)\n",
    "\n",
    "Les valeurs booléennes (*boolean*) sont des objet binaires qui représentent des valeurs de vérité : vrai (True) ou faux (False). ."
   ]
  },
  {
   "cell_type": "code",
   "execution_count": null,
   "metadata": {},
   "outputs": [],
   "source": [
    "# Valeurs booléennes\n",
    "print(True)\n",
    "print(False)"
   ]
  },
  {
   "cell_type": "markdown",
   "metadata": {},
   "source": [
    "### 5.5 La fonction `type()`\n",
    "\n",
    "On peut connaître le type d'un élément avec la fonction `type()`."
   ]
  },
  {
   "cell_type": "code",
   "execution_count": null,
   "metadata": {},
   "outputs": [],
   "source": [
    "# Vérifier le type des données\n",
    "print(type(\"Prochain épisode\"))  \n",
    "print(type(1857))            \n",
    "print(type(8.5))              \n",
    "print(type(True))             "
   ]
  },
  {
   "cell_type": "markdown",
   "metadata": {},
   "source": [
    "---"
   ]
  },
  {
   "cell_type": "markdown",
   "metadata": {},
   "source": [
    "## 6. Les variables\n",
    "\n",
    "Une variable est une association explicite entre un nom (identifiant) et un élément qui lui a été associé. On peut concevoir la variable comme une boîte dans laquelle on place un élément de son choix. Le nom de la variable est l'étiquette que l'on pose sur la boîte. Des éléments de tous les types que nous avons vus plus haut peuvent être placés dans une variable. L'élément auquel renvoie une variable peut changer au fil du code.\n",
    "\n",
    "**Définition :** Une variable associe un nom à une valeur, et ce de façon dynamique."
   ]
  },
  {
   "cell_type": "code",
   "execution_count": null,
   "metadata": {},
   "outputs": [],
   "source": [
    "# Création de variables\n",
    "auteur = \"Hubert Aquin\"\n",
    "roman = \"Prochain épisode\"\n",
    "annee = 1965\n",
    "edition = \"Cercle du livre de France\"\n",
    "longueur_mots = 4.18\n",
    "\n",
    "print(\"Le roman\", roman, \"de\", auteur, \"est paru en\", annee, \"aux éditions\", edition, \".\")\n",
    "print(\"La longueur moyenne des mots de son incipit est de\", longueur_mots, \"lettres.\")\n",
    "print(\"\")"
   ]
  },
  {
   "cell_type": "code",
   "execution_count": null,
   "metadata": {},
   "outputs": [],
   "source": [
    "# Exemple de changement de valeur d'une variable\n",
    "pages_lues = 59\n",
    "print(\"J'ai lu\", pages_lues, \"pages.\")\n",
    "\n",
    "print(\"\")\n",
    "print(\"...\")\n",
    "print(\"\")\n",
    "\n",
    "pages_lues = 60\n",
    "print(\"Maintenant, j'ai lu\", pages_lues, \"pages.\")"
   ]
  },
  {
   "cell_type": "markdown",
   "metadata": {},
   "source": [
    "### 6.1 Bonnes pratiques pour nommer les variables\n",
    "\n",
    "Le choix de bons noms pour les variables est essentiel pour la lisibilité du code. \n",
    "\n",
    "**Règles importantes :**\n",
    "- Utiliser des noms descriptifs\n",
    "- Pas d'espaces (utilisez plutôt _ )\n",
    "- Pas de caractères spéciaux (à part _ )\n",
    "- Ne pas commencer par un chiffre\n",
    "- Éviter les mots réservés Python (p. ex. print, type, str, int...)"
   ]
  },
  {
   "cell_type": "code",
   "execution_count": null,
   "metadata": {},
   "outputs": [],
   "source": [
    "# ✅ Bons noms de variables\n",
    "titre_livre = \"Kamouraska\"\n",
    "nombre_pages = 250\n",
    "auteur_e = \"Anne Hébert\"\n",
    "avant_1980 = True\n",
    "\n",
    "# ❌ Mauvais noms de variables \n",
    "# titre livre = \"Kamouraska\"       # espace, cause une erreur de syntaxe\n",
    "# x = \"Kamouraska\"                 # Pas explicite\n",
    "# auteur-e = \"Anne Hébert\"         # tiret, cause une erreur de syntaxe\n",
    "# n = 250                          # trop court, pas assez explicite\n",
    "# 1980_ou_avant = \"Jane Austen\"    # commence par un chiffre\n",
    "# class = True                     # mot réservé en Python"
   ]
  },
  {
   "cell_type": "markdown",
   "metadata": {},
   "source": [
    "---"
   ]
  },
  {
   "cell_type": "markdown",
   "metadata": {},
   "source": [
    "## 7. Structures de données : listes et dictionnaires\n",
    "\n",
    "Les structures de données permettent d'organiser l'information de façon explicite."
   ]
  },
  {
   "cell_type": "markdown",
   "metadata": {},
   "source": [
    "### 7.1 Les listes\n",
    "\n",
    "Une liste est une collection ordonnée d'éléments (chaînes, nombres, etc.). Les éléments d'une liste se trouvent entre crochets, séparés par des virgules."
   ]
  },
  {
   "cell_type": "code",
   "execution_count": null,
   "metadata": {},
   "outputs": [],
   "source": [
    "# Création d'une liste (chaînes)\n",
    "auteurs_qc = [\"Hubert Aquin\", \"Marie-Claire Blais\", \"Réjean Ducharme\", \"Anne Hébert\"]\n",
    "print(auteurs_qc)\n",
    "\n",
    "# Liste de nombres entiers\n",
    "annees_publication = [1965, 1965, 1966, 1970]\n",
    "print(annees_publication)\n",
    "\n",
    "# Liste de nombres réels\n",
    "longueur_mots = [\"4.18\", \"6.13\", \"3.33\", \"3.4\"]\n",
    "print(longueur_mots)\n",
    "\n",
    "# Liste mixte\n",
    "infos_livre = [\"Une saison dans la vie d'Emmanuel\", 1965, \"Marie-Claire Blais\", 176, \"Éditions du Jour\"]\n",
    "print(infos_livre)"
   ]
  },
  {
   "cell_type": "markdown",
   "metadata": {},
   "source": [
    "### 7.2 La taille des listes\n",
    "\n",
    "La taille (ou longueur) d'une liste peut être obtenue avec la fonction `len()`. "
   ]
  },
  {
   "cell_type": "code",
   "execution_count": null,
   "metadata": {},
   "outputs": [],
   "source": [
    "# Nombre d'éléments dans une liste \n",
    "romans = [\"Prochain épisode\", \"Une saison dans la vie d'Emmanuel\", \"L'Avalée des avalés\", \"Kamouraska\"]\n",
    "print(\"Nombre de romans:\", len(romans))"
   ]
  },
  {
   "cell_type": "markdown",
   "metadata": {},
   "source": [
    "### 7.3 Accès aux éléments d'une liste\n",
    "\n",
    "Chaque élément d'une liste est associé à un numéro de position (index). Étrangement, et pour des raisons qui dépassent le cadre de ce cours, le premier élément d'une liste a toujours l'index 0. Dans une liste contenant quatre objets, les éléments auraient donc les index 0, 1, 2 et 3. Pour accéder à un élément spécifique d'une liste, on entre le nom de celle-ci, accompagné du numéro d'indice, entre crochets (p. ex. `liste_auteurs[2]`).\n",
    "\n",
    "Les index négatifs peuvent être utilisés pour renvoyer à la position d'un élément par rapport à la fin de la liste. Cela permet d'accéder à l'élément final (`liste_auteurs[-1]`), pénultième (`liste_auteurs[-2]`), antépénultième (`liste_auteurs[-3]`), etc. Les index négatifs commencent à -1, et non à -0 (`liste_auteurs[-0]` est équivalent à `liste_auteurs[0]`). "
   ]
  },
  {
   "cell_type": "code",
   "execution_count": null,
   "metadata": {},
   "outputs": [],
   "source": [
    "romans = [\"Prochain épisode\", \"Une saison dans la vie d'Emmanuel\", \"L'Avalée des avalés\", \"Kamouraska\"]\n",
    "\n",
    "print(\"Premier roman:\", romans[0])\n",
    "print(\"Deuxième roman:\", romans[1])\n",
    "print(\"Dernier roman:\", romans[-1])  # -1 pour accéder au dernier élément de la liste\n"
   ]
  },
  {
   "cell_type": "markdown",
   "metadata": {},
   "source": [
    "### 7.4 Découpage (*slicing*)\n",
    "\n",
    "On peut également utiliser les index pour accéder à une portion d'une liste. Plutôt que de mettre seulement un index entre crochets, on spécifie une plage avec les deux-points. Si rien n'est indiqué avant les deux-points (p. ex. `[:3]`), la plage commence au début de la liste. Si rien n'est indiqué après (p. ex. `[2:]`), la plage va jusqu'à la fin. **Important :** la plage inclut le premier élément indiqué explicitement, mais pas le dernier. \n"
   ]
  },
  {
   "cell_type": "code",
   "execution_count": null,
   "metadata": {},
   "outputs": [],
   "source": [
    "periodes_litteraires = [\"Moyen Âge\", \"Renaissance\", \"Classique\", \"Romantique\", \"Réaliste\", \"Moderne\", \"Contemporain\"]\n",
    "\n",
    "print(\"Tous:\", periodes_litteraires [:])\n",
    "print(\"Les 3 premiers:\", periodes_litteraires [:3])\n",
    "print(\"Du 3e au 5e:\", periodes_litteraires [2:5])\n",
    "print(\"Les 3 derniers:\", periodes_litteraires [-3:])\n"
   ]
  },
  {
   "cell_type": "markdown",
   "metadata": {},
   "source": [
    "### 7.5 Méthodes des listes\n",
    "\n",
    "Les listes ne sont pas fixes, elles peuvent être modifiées de différentes façons. Les opérations principales sont l'ajout (en fin de liste avec `append` et à une position particulière avec `insert`) et la suppression (`remove`)."
   ]
  },
  {
   "cell_type": "code",
   "execution_count": null,
   "metadata": {},
   "outputs": [],
   "source": [
    "# Création d'une liste de genres\n",
    "genres = [\"Roman\", \"Poésie\", \"Théâtre\"]\n",
    "print(\"Genres initiaux:\", genres)\n",
    "\n",
    "# Ajouter un élément\n",
    "genres.append(\"Essai\")\n",
    "print(\"Après ajout:\", genres)\n",
    "\n",
    "# Insérer à une position précise\n",
    "genres.insert(1, \"Nouvelle\")\n",
    "print(\"Après insertion:\", genres)\n",
    "\n",
    "# Supprimer un élément\n",
    "genres.remove(\"Théâtre\")\n",
    "print(\"Après suppression:\", genres)"
   ]
  },
  {
   "cell_type": "markdown",
   "metadata": {},
   "source": [
    "### 7.6 Les dictionnaires\n",
    "\n",
    "Comme les listes, les dictionnaires sont des ensembles d'éléments pouvant correspondre à différents types. Contrairement aux listes, les dictionnaires ne contiennent pas des valeurs uniques, mais des association entre une `clé` (ou entrée) et une `valeur`. Ils fonctionnent ainsi à peu près comme des dictionnaires de langue, où chaque entrée correspond à une définition. Les dictionnaires sont toujours entre accolades. Les différents éléments y sont séparés par des virgule. Pour chaque élément, la clé est suivie par la valeur (p. ex. `alphabet_otan = {\"alfa\" : \"a\", \"bravo\" : \"b\", \"charlie\" : \"c\"}`).\n",
    "\n",
    "**Attention :**\n",
    "- Plusieurs clés peuvent être associées à la même valeur\n",
    "- Chaque clé est unique\n",
    "- Contrairement aux listes, les dictionnaires ne sont pas orodnnées (pas d'index)\n",
    "- La clé d'un élément peut être utilisé comme un index pour obtenir la valeur associée"
   ]
  },
  {
   "cell_type": "code",
   "execution_count": null,
   "metadata": {},
   "outputs": [],
   "source": [
    "# Création d'un dictionnaire\n",
    "livre = {\n",
    "    \"titre\": \"Bâtons à message / Tshissinuashitakana\",\n",
    "    \"auteur\": \"Joséphine Bacon\",\n",
    "    \"annee\": 2009,\n",
    "    \"pages\": 144,\n",
    "    \"genre\": \"Poésie\",\n",
    "    \"éditeur\" : \"Mémoire d'encrier\"\n",
    "}\n",
    "\n",
    "print(\"Dictionnaire complet:\", livre)\n",
    "print(\"Titre:\", livre[\"titre\"])\n",
    "print(\"Auteur:\", livre[\"auteur\"])"
   ]
  },
  {
   "cell_type": "markdown",
   "metadata": {},
   "source": [
    "### 7.7 Méthodes des dictionnaires"
   ]
  },
  {
   "cell_type": "code",
   "execution_count": null,
   "metadata": {},
   "outputs": [],
   "source": [
    "# Accès aux clés, valeurs et paires\n",
    "print(\"Clés:\", livre.keys())\n",
    "print(\"Valeurs:\", livre.values())\n",
    "print(\"Paires clé-valeur:\", livre.items())\n",
    "\n",
    "# Ajout de novueaux éléments\n",
    "livre[\"bilingue\"] = True\n",
    "livre[\"format\"] = \"papier\"\n",
    "print(\"Après ajout:\", livre)\n",
    "\n"
   ]
  },
  {
   "cell_type": "markdown",
   "metadata": {},
   "source": [
    "### 7.8 Récursivité des structures de données\n",
    "\n",
    "Il est possible d'avoir une liste de listes, une liste de dictionnaires, etc. Ce genre de récursivité des structures de données permet d'organiser l'information de façon assez précise."
   ]
  },
  {
   "cell_type": "code",
   "execution_count": 2,
   "metadata": {},
   "outputs": [
    {
     "name": "stdout",
     "output_type": "stream",
     "text": [
      "Anne Hébert\n",
      "Anne Hébert\n",
      "Réjean Ducharme\n",
      "Jacques Poulin\n",
      "Roch Carrier\n"
     ]
    }
   ],
   "source": [
    "# Romans québécois présentés sous forme de liste de dictionnaires. Chaque élément de la liste est un livre (dictionnaire d'infos)\n",
    "romans_quebecois = [\n",
    "    {\"titre\": \"Kamouraska\", \"auteur\": \"Anne Hébert\", \"annee\": 1970, \"pages\": 250},\n",
    "    {\"titre\": \"Les Fous de Bassan\", \"auteur\": \"Anne Hébert\", \"annee\": 1982, \"pages\": 285},\n",
    "    {\"titre\": \"L'Hiver de force\", \"auteur\": \"Réjean Ducharme\", \"annee\": 1973, \"pages\": 283},\n",
    "    {\"titre\": \"Volkswagen Blues\", \"auteur\": \"Jacques Poulin\", \"annee\": 1984, \"pages\": 290},\n",
    "    {\"titre\": \"La Guerre, Yes Sir!\", \"auteur\": \"Roch Carrier\", \"annee\": 1968, \"pages\": 124}]\n",
    "\n",
    "# exemple d'utilisation (ici, 'roman' est la variable qui représente chaque dictionnaire de la liste)\n",
    "for roman in romans_quebecois:\n",
    "    print(roman[\"auteur\"])\n"
   ]
  },
  {
   "cell_type": "markdown",
   "metadata": {},
   "source": [
    "---"
   ]
  },
  {
   "cell_type": "markdown",
   "metadata": {},
   "source": [
    "## 8. Opérateurs\n",
    "\n",
    "Les opérateurs permettent de manipuler et comparer les données."
   ]
  },
  {
   "cell_type": "markdown",
   "metadata": {},
   "source": [
    "### 8.1 Opérateurs arithmétiques\n",
    "\n",
    "- Addition : (`+`)\n",
    "- Soustraction : (`-`)\n",
    "- Multiplication : (`*`)\n",
    "- Division : (`/`)"
   ]
  },
  {
   "cell_type": "code",
   "execution_count": null,
   "metadata": {},
   "outputs": [],
   "source": [
    "# Données d'exemple\n",
    "pages_tome1 = 450\n",
    "pages_tome2 = 380\n",
    "prix_par_tome = 12.50\n",
    "\n",
    "# Opérations arithmétiques\n",
    "total_pages = pages_tome1 + pages_tome2             # addition\n",
    "difference_pages = pages_tome1 - pages_tome2        # soustraction\n",
    "prix_total = prix_unitaire * 2                      # multiplication\n",
    "moyenne_pages = total_pages / 2                     # division\n",
    "\n",
    "\n",
    "print(\"Total des pages: \", total_pages)\n",
    "print(\"Différence: \", difference_pages)\n",
    "print(\"Prix total: \", prix_total)\n",
    "print(\"Moyenne de pages: \", moyenne_pages)\n"
   ]
  },
  {
   "cell_type": "code",
   "execution_count": null,
   "metadata": {},
   "outputs": [],
   "source": [
    "# Les opérations d'addition et de multiplication peuvent également s'appliquer aux chaînes\n",
    "rire1 = \"ha\"\n",
    "rire2 = \"hi\"\n",
    "rire3 = \"ho\"\n",
    "\n",
    "print(rire1 * 2 + rire2 + rire1 + rire3 * 2 + \"!\")\n",
    "\n",
    "\n"
   ]
  },
  {
   "cell_type": "markdown",
   "metadata": {},
   "source": [
    "### 8.2 Opérateurs de comparaison\n",
    "\n",
    "- Plus grand que: (`>`)\n",
    "- Plus grand ou égal à : (`>=`)\n",
    "- Plus petit que : (`<`)\n",
    "  Plus petit ou égal à : (`<=`)\n",
    "- Égale : (`==`)\n",
    "- N'égale pas : (`!=`)\n",
    "\n",
    "Python peut déterminer si une comparaison est vraie ou fausse (valeurs booléennes)"
   ]
  },
  {
   "cell_type": "code",
   "execution_count": null,
   "metadata": {},
   "outputs": [],
   "source": [
    "# Comparaison d'années de publication\n",
    "annee_ferron = 1921\n",
    "annee_roy = 1909\n",
    "\n",
    "print(\"Gabrielle Roy est née avant Jacques Ferron.\", annee_roy < annee_ferron)\n",
    "print(\"Jacques Ferron est né avant Gabrielle Roy.\", annee_ferron < annee_roy)\n"
   ]
  },
  {
   "cell_type": "code",
   "execution_count": null,
   "metadata": {},
   "outputs": [],
   "source": [
    "# Avec les chaînes, les opérateurs < et > réfèrent à l'ordre alphabétique.\n",
    "auteur1 = \"Ferron, Jacques\"\n",
    "auteur2 = \"Roy, Gabrielle\"\n",
    "print(\"Ordre alphabétique?\", auteur1 < auteur2)"
   ]
  },
  {
   "cell_type": "code",
   "execution_count": null,
   "metadata": {},
   "outputs": [],
   "source": [
    "# Avec les chaînes, les opérateurs == et != nous indique si les chaînes sont identiques ou non.\n",
    "titre1 = \"L'Avalée des avalés\"\n",
    "titre2 = \"La Vallée des avalés\"\n",
    "print(\"Même titre?\", titre1 == titre2)"
   ]
  },
  {
   "cell_type": "markdown",
   "metadata": {},
   "source": [
    "### 8.3 Opérateurs logiques\n",
    "\n",
    "- `and` : Vrai si les deux énoncés sont vrais\n",
    "- `or` : Vrai si un des énoncés est vrai"
   ]
  },
  {
   "cell_type": "code",
   "execution_count": null,
   "metadata": {},
   "outputs": [],
   "source": [
    "annee_publication = 1965\n",
    "\n",
    "# Opérateurs logiques\n",
    "print(\"Livre publié au 20e siècle?\", annee_publication >= 1900 and annee_publication <=1999)\n",
    "\n",
    "print(\"Livre publié entre 1965 et 1966?\", annee_publication == 1965 or annee_publication == 1966)"
   ]
  },
  {
   "cell_type": "markdown",
   "metadata": {},
   "source": [
    "### 8.4 Opérateurs d'appartenance\n",
    "\n",
    "L'opérateur `in` permet de vérifier si un élément se retrouve dans un autre. À l'inverse, `not in` vérifie l'absence d'un élément.\n",
    "\n"
   ]
  },
  {
   "cell_type": "code",
   "execution_count": null,
   "metadata": {},
   "outputs": [],
   "source": [
    "# Vérifier si un élément est dans une liste\n",
    "signataires = [\"Paul-Émile Borduas\", \"Madeleine Arbour\", \"Marcel Barbeau\", \"Bruno Cormier\", \"Claude Gauvreau\", \"Pierre Gauvreau\",\n",
    "\"Muriel Guilbault\", \"Marcelle Ferron\", \"Fernand Leduc\", \"Thérèse Leduc\", \"Jean-Paul Mousseau\", \"Maurice Perron\", \"Louise Renaud\", \n",
    "\"Françoise Riopelle\", \"Jean Paul Riopelle\", \"Françoise Sullivan\"]\n",
    "\n",
    "RG_par1 = \"\"\"Rejetons de modestes familles canadiennes françaises, \n",
    "ouvrières ou petit bourgeoises, de l'arrivée du pays à nos jours restées \n",
    "françaises et catholiques par résistance au vainqueur, par attachement \n",
    "arbitraire au passé, par plaisir et orgueil sentimental et autres nécessités.\"\"\"\n",
    "\n",
    "\n",
    "print(\"Françoise Riopelle a-t-elle été signataire de Refus global?\", \"Françoise Riopelle\" in signataires)\n",
    "print(\"Marc-Aurèle Fortin a-t-il été signataire de Refus global?\", \"Marc-Aurèle Fortin\" in signataires)\n",
    "print(\"\")\n",
    "print(\"Le mot « France » apparaît-il dans le premier paragraphe de Refus global?\", \"France\" in RG_par1)\n",
    "print(\"Le mot « refus » est-il absent du premier paragraphe de Refus global?\", \"refus\" not in RG_par1)"
   ]
  },
  {
   "cell_type": "markdown",
   "metadata": {},
   "source": [
    "---"
   ]
  },
  {
   "cell_type": "markdown",
   "metadata": {},
   "source": [
    "## 9. Structures de contrôle\n",
    "\n",
    "Les structures de contrôle permettent de diriger le flux d'exécution du programme. Cela permet d'effecter des opérations seulement si certaines conditions sont remplies, ou alors d'appliquer des changements en lot. Ces structures de contrôle ont un format commun : deux-points, suivi par retrait de ligne pour les éléments contrôlés."
   ]
  },
  {
   "cell_type": "markdown",
   "metadata": {},
   "source": [
    "### 9.1 La structure conditionnelle if/elif/else\n",
    "\n",
    "- `if` : si une condition donnée est remplie, effectuer l'opération qui suit\n",
    "- `elif` (else if) : si la condition précédente n'a pas été remplie, mais que celle-ci l'est, effectuer l'opération qui suit\n",
    "- `else` : si aucune des conditions précédentes n'a été remplie, effectuer l'opération qui suit"
   ]
  },
  {
   "cell_type": "code",
   "execution_count": null,
   "metadata": {},
   "outputs": [],
   "source": [
    "# Exemple simple\n",
    "annee_publication = 2009\n",
    "\n",
    "if annee_publication >= 2000:\n",
    "    print(\"Œuvre du 21e siècle ou ultérieure\")\n",
    "elif annee_publication > 1900:\n",
    "    print(\"Œuvre du 20e siècle\")\n",
    "else:\n",
    "    print(\"Œuvre antérieure au 20e siècle\")"
   ]
  },
  {
   "cell_type": "code",
   "execution_count": null,
   "metadata": {},
   "outputs": [],
   "source": [
    "# Exemple plus complexe : recommandation de lecture\n",
    "age_lecteur = 11\n",
    "genre_prefere = \"Roman\"          # choix : Roman, Théâtre, Poésie, Documentaire\n",
    "\n",
    "\n",
    "if age_lecteur < 13:\n",
    "    if genre_prefere == \"Roman\" : \n",
    "        print(\"Recommandation : La mystérieuse bibliothécaire\")\n",
    "    if genre_prefere == \"Théâtre\" :\n",
    "        print(\"Recommandation :L'arbre de Joujou\")\n",
    "    if genre_prefere == \"Poésie\" : \n",
    "        print(\"Recommandation : Poèmes de la souris verte\")\n",
    "    if genre_prefere == \"Documentaire\" : \n",
    "        print(\"Recommandation : Pourquoi les manchots n'ont-ils pas froid aux pieds\")\n",
    "\n",
    "elif age_lecteur < 20:\n",
    "    if genre_prefere == \"Roman\" : \n",
    "        print(\"Recommandation : La déesse des mouches à feu\")\n",
    "    if genre_prefere == \"Théâtre\" :\n",
    "        print(\"Recommandation : Incendies\")\n",
    "    if genre_prefere == \"Poésie\" : \n",
    "        print(\"Recommandation : Speak White\")\n",
    "    if genre_prefere == \"Documentaire\" : \n",
    "        print(\"Recommandation : L'Univers expliqué à mes petits-enfants\")\n",
    "\n",
    "else:\n",
    "    if genre_prefere == \"Roman\" : \n",
    "        print(\"Recommandation : L'énigme du retour\")\n",
    "    if genre_prefere == \"Théâtre\" :\n",
    "        print(\"Recommandation : Les Belles-Soeurs\")\n",
    "    if genre_prefere == \"Poésie\" : \n",
    "        print(\"Recommandation : L'Homme rapaillé\")\n",
    "    if genre_prefere == \"Documentaire\" : \n",
    "        print(\"Recommandation : Comment pensons-nous?\")"
   ]
  },
  {
   "cell_type": "markdown",
   "metadata": {},
   "source": [
    "### 9.2 La boucle `for`\n",
    "\n",
    "La boucle `for` est une autre structure de contrôle des données. Elle permet de répéter une action sur chaque élément d'un ensemble. Le format des boucles est toujours `for x in y :`, où x est une variable correspondant à chaque élément d'un ensemble y."
   ]
  },
  {
   "cell_type": "code",
   "execution_count": null,
   "metadata": {},
   "outputs": [],
   "source": [
    "# Romans de Kim Thúy\n",
    "romans_KT = [\"Ru\", \"À toi\", \"Mãn\", \"Vi\", \"Em\"]\n",
    "\n",
    "print(\"Nombre de caractères dans les titres des romans de Kim Thúy :\")\n",
    "for roman in romans_KT :\n",
    "    print(\" - \", roman, \":\", len(roman))\n"
   ]
  },
  {
   "cell_type": "code",
   "execution_count": null,
   "metadata": {},
   "outputs": [],
   "source": [
    "# Les structure `if` et `for` peuvent être combinées\n",
    "print(\"Titres des romans de Kim Thúy comprenant une espace :\")\n",
    "for roman in romans_KT :\n",
    "    if ' ' in roman :\n",
    "        print(\" - \", roman)"
   ]
  },
  {
   "cell_type": "markdown",
   "metadata": {},
   "source": [
    "### 9.3 Parcourir des dictionnaires"
   ]
  },
  {
   "cell_type": "code",
   "execution_count": null,
   "metadata": {},
   "outputs": [],
   "source": [
    "# Dictionnaire contenant les dates de parution des romans de Kim Thúy\n",
    "romans_KT_annees = {\"Ru\" : 2009, \n",
    "     \"À toi\" : 2011, \n",
    "     \"Mãn\" : 2013, \n",
    "     \"Vi\" : 2016, \n",
    "     \"Em\" : 2020}\n",
    "\n",
    "print(\"Dates de parution des romans de Kim Thúy :\")\n",
    "for cle, valeur in romans_KT_annees.items():\n",
    "    print(\" - \", cle, \"est paru en\", valeur)\n",
    "\n"
   ]
  },
  {
   "cell_type": "code",
   "execution_count": null,
   "metadata": {},
   "outputs": [],
   "source": [
    "# On peut également appliquer une boucle for à chaque élément d'un dictionnaire\n",
    "for roman in romans_KT_annees :\n",
    "    print(roman)\n",
    "    print(romans_KT_annees[roman])"
   ]
  },
  {
   "cell_type": "code",
   "execution_count": null,
   "metadata": {},
   "outputs": [],
   "source": [
    "# Trouver le roman le plus long de Victor Lévy Beaulieu\n",
    "romans_VLB = {\"Mémoires d'outre-tonneau\" : 152, \n",
    "                \"La Nuitte de Malcomm Hudd\" :  229, \n",
    "                \"Race de monde\" : 215, \n",
    "                \"Jos Connaissant\" : 298, \n",
    "                \"Les Grands-Pères\" : 147, \n",
    "                \"Un rêve québécois\" : 135, \n",
    "                \"Oh Miami Miami Miami\" :  297, \n",
    "                \"Don Quichotte de la Démanche\" : 368, \n",
    "                \"Blanche forcée\" : 198, \n",
    "                \"N'évoque plus que le désenchantement de ta ténèbre, mon si pauvre Abel\" : 157, \n",
    "                \"Una\" : 200, \"Satan Belhumeur\" :  192, \n",
    "                \"Moi Pierre Leroy, prophète, martyr et un peu fêlé du chaudron\" :  228, \n",
    "                \"Steven le Hérault\" : 276, \"L'Héritage\" : 95, \n",
    "                \"Je m'ennuie de Michèle Viroly\" : 240, \n",
    "                \"Le Bleu du ciel\" : 327, \n",
    "                \"Absalon-mon-garçon\" : 295, \n",
    "                \"La Grande Tribu. C'est la faute à Papineau\" : 874, \n",
    "                \"Antiterre (utopium)\" : 408}\n",
    "\n",
    "print(\"=== RECHERCHE DU ROMAN LE PLUS LONG ===\")\n",
    "print(\"...\")\n",
    "\n",
    "# Valeurs de base\n",
    "livre_plus_long = \"(aucun livre)\"\n",
    "pages_livre_plus_long = 0\n",
    "\n",
    "# Passer à travers la liste des livres et faire decomparaisons de longueur\n",
    "for roman in romans_VLB:\n",
    "    titre = roman\n",
    "    longueur = romans_VLB[roman]\n",
    "    print(\"Le roman\", titre, \"a\", longueur, \"pages.\")\n",
    "\n",
    "    \n",
    "    # Vérifier s'il s'agit du titre le plus long jusqu'ici\n",
    "    if longueur > pages_livre_plus_long :\n",
    "        print(\"Jusqu'ici, il s'agit du livre le plus long.\")\n",
    "        print(\"...\")\n",
    "        livre_plus_long = roman\n",
    "        pages_livre_plus_long = longueur\n",
    "    else:\n",
    "        print(\"...\")\n",
    "\n",
    "print(\"Il semble que\", livre_plus_long, \"soit le roman le plus long de Victor Lévy Beaulieu, avec\", pages_livre_plus_long, \"pages.\")"
   ]
  },
  {
   "cell_type": "markdown",
   "metadata": {},
   "source": [
    "### 9.4 La boucle `while`\n",
    "\n",
    "La boucle `while` permet de répéter une opération tant qu'une condition est vraie. "
   ]
  },
  {
   "cell_type": "code",
   "execution_count": null,
   "metadata": {},
   "outputs": [],
   "source": [
    "# Compter les mots jusqu'à atteindre un objectif\n",
    "mots_ecrits = 0\n",
    "mots_restants = 900\n",
    "jour = 0\n",
    "\n",
    "print(\"Progression d'écriture :\")\n",
    "while mots_restants > 0:\n",
    "    jour = jour + 1\n",
    "    print(\"Jour\", jour, \":\")\n",
    "    \n",
    "    mots_du_jour = 150  # Simuler l'écriture quotidienne\n",
    "    print(\" - J'ai écrit\", mots_du_jour, \"mots aujourd'hui\")\n",
    "\n",
    "    mots_ecrits = mots_ecrits + mots_du_jour\n",
    "    print(\" - Je suis rendu à\", mots_ecrits, \"mots\")\n",
    "\n",
    "    mots_restants = mots_restants - mots_du_jour\n",
    "    print(\" - Il me reste\", mots_restants, \"mots à écrire\")\n",
    "\n",
    "print(\"Objectif atteint en\", jour, \"jours\")"
   ]
  },
  {
   "cell_type": "markdown",
   "metadata": {},
   "source": [
    "---"
   ]
  },
  {
   "cell_type": "markdown",
   "metadata": {},
   "source": [
    "## 10. Les fonctions\n",
    "\n",
    "Les fonctions sont des blocs de code réutilisables que l'on peut appeler dès qu'ils ont été créés. Les fonctions permettent d'appliquer un ensemble d'opérations plus ou moins complexes à un élément. Le recours aux fonctions permet d'avoir un code plus lisible et transparent."
   ]
  },
  {
   "cell_type": "markdown",
   "metadata": {},
   "source": [
    "### 10.1 Définition d'une fonction\n",
    "\n",
    "Une fonction se définit avec le mot-clé `def`, suivi par le nom que l'on veut donner à la fonction. On trouve ensuite les paramètres nécessaires entre parenthèses, puis les deux-points (avec retrait de la ligne)."
   ]
  },
  {
   "cell_type": "code",
   "execution_count": null,
   "metadata": {},
   "outputs": [],
   "source": [
    "# Fonction simple sans paramètres (l'action s'applique de façon autonome)\n",
    "def saluer():\n",
    "    print(\"Bonjour tout le monde!\")\n",
    "\n",
    "# Appeler la fonction\n",
    "saluer()"
   ]
  },
  {
   "cell_type": "code",
   "execution_count": null,
   "metadata": {},
   "outputs": [],
   "source": [
    "# Fonction avec un paramètre (à l'intérieur de la fonction, le nom du paramètre remplace l'élément auquel s'applique la fonction)\n",
    "def saluer_qqun(prenom):\n",
    "    print(\"Bonjour\", prenom, \"!\")\n",
    "\n",
    "# Appels avec différents arguments\n",
    "saluer_qqun(\"Jacques\")\n",
    "saluer_qqun(\"Madeleine\")"
   ]
  },
  {
   "cell_type": "code",
   "execution_count": null,
   "metadata": {},
   "outputs": [],
   "source": [
    "# Fonction avec plusieurs paramètre\n",
    "def presenter_livre(auteur, titre, date):\n",
    "    print(auteur, \"a fait paraître\", titre, \"en\", date)\n",
    "\n",
    "# Appels avec différents arguments\n",
    "presenter_livre(\"Hector de Saint-Denys Garneau\", \"Regards et Jeux dans l'espace\", 1937)\n"
   ]
  },
  {
   "cell_type": "markdown",
   "metadata": {},
   "source": [
    "### 10.2 Fonctions avec valeur de retour\n",
    "\n",
    "Souvent, une fonction ne sert pas seulement à imprimer une valeur, mais à fournir une information qui sera utilisée dans la suite du code. On demande alors à la fonction de « retourner » une valeur avec la fonction `return`."
   ]
  },
  {
   "cell_type": "code",
   "execution_count": null,
   "metadata": {},
   "outputs": [],
   "source": [
    "# Fonction qui calcule le nombre de mots dans un titre\n",
    "def longueur_titre(titre):\n",
    "    nb_caracteres = len(titre)\n",
    "    return(nb_caracteres)\n",
    "\n",
    "\n",
    "# Livres d'Antonine Maillet\n",
    "livres_AM = [\"Pointe-aux-Coques\", \"On a mangé la dune\", \"Les Crasseux\", \n",
    "             \"La Sagouine\", \"Rabelais et les traditions populaires en Acadie\", \n",
    "             \"Don l'Orignal\", \"Par derrière chez mon père\", \"Gapi et Sullivan\", \n",
    "             \"Mariaagélas\", \"Évangeline Deusse\", \"Gapi\", \"Mon pays c’est un conte\", \n",
    "             \"La Veuve enragée\", \"Les Cordes-de-bois\", \"Le Bourgeois gentleman\", \n",
    "             \"Pélagie-la-Charrette\", \"Cent ans dans les bois\", \"Christophe Cartier de la Noisette dit Nounours\", \n",
    "             \"La Contrebandière\", \"Les drolatiques, horrifiques et épouvantables aventures de Panurge, ami de Pantagruel\", \n",
    "             \"La Gribouille\", \"Crache à pic\", \"Garrochés en paradis\", \"Le Huitième Jour\", \"Margot la folle\", \"L'Oursiade\", \n",
    "             \"William S.\", \"Les Confessions de Jeanne de Valois\", \"La Nuit des rois\", \"La Fontaine ou la Comédie des Animaux\", \n",
    "             \"Le Chemin Saint-Jacques\", \"L'Île-aux-Puces\", \"Chronique d'une sorcière de vent\", \"Madame Perfecta\", \"Le temps me dure\", \n",
    "             \"Pierre Bleu\", \"Le Mystérieux Voyage de Rien\", \"Fais confiance à la mer, elle te portera\", \"Mon testament\"]\n",
    "\n",
    "# Utilisation\n",
    "for livre in livres_AM : \n",
    "    print(livre)\n",
    "    \n",
    "    resultat = longueur_titre(livre)\n",
    "    print(resultat, \"caractères\")\n",
    "    print(\"...\")\n",
    "\n",
    "\n"
   ]
  },
  {
   "cell_type": "markdown",
   "metadata": {},
   "source": [
    "---"
   ]
  },
  {
   "cell_type": "markdown",
   "metadata": {},
   "source": [
    "## Conclusion\n",
    "\n",
    "Félicitations ! Vous avez survécu à ce survol des notions fondamentales de Python. Voici, en gros, ce que nous avons appris :\n",
    "\n",
    "### Récapitulatif des notions\n",
    "- **Langage de programmation** : Un moyen de communiquer de façon claire et explicite avec l'ordinateur\n",
    "- **Python** : Un langage accessible et flexible, souvent utilisé pour l'analyse textuelle\n",
    "- **Instructions** : Une ligne = une action\n",
    "- **Types de données** : chaînes, nombres (entiers, réels), booléens\n",
    "- **Variables** : Étiquettes pour renvoyer à différents types de valeurs\n",
    "- **Listes et dictionnaires** : Structures pour organiser les données\n",
    "- **Opérateurs** : Outils pour manipuler et comparer des valeurs\n",
    "- **Structures de contrôle** : Fonctions permettant de diriger le flux du code\n",
    "- **Fonctions** : Blocs de code réutilisables\n",
    "\n",
    "### La semaine prochaine\n",
    "- Modules et packages\r\n",
    "-Llecture et écriture de fichier\n",
    "- Manipulation des chaînes de caractères\n",
    "- Analyse rudimentaire d'un court textes\n",
    "\n",
    "### Ressources utiles\n",
    "- Documentation officielle Python : https://docs.python.org/fr/\n",
    "- \n"
   ]
  },
  {
   "cell_type": "code",
   "execution_count": null,
   "metadata": {},
   "outputs": [],
   "source": []
  }
 ],
 "metadata": {
  "kernelspec": {
   "display_name": "Python 3 (ipykernel)",
   "language": "python",
   "name": "python3"
  },
  "language_info": {
   "codemirror_mode": {
    "name": "ipython",
    "version": 3
   },
   "file_extension": ".py",
   "mimetype": "text/x-python",
   "name": "python",
   "nbconvert_exporter": "python",
   "pygments_lexer": "ipython3",
   "version": "3.11.7"
  }
 },
 "nbformat": 4,
 "nbformat_minor": 4
}
