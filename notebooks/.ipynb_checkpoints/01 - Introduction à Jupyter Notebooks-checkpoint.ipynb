{
 "cells": [
  {
   "cell_type": "markdown",
   "id": "b5c69ff3-180b-493b-b2e7-48dedeb776c6",
   "metadata": {},
   "source": [
    "# Qu'est-ce qu'un Jupyter Notebook?\n",
    "\n",
    "Bienvenue dans l'environnement Jupyter Notebook! \n",
    "\n",
    "Ce premier document vous explique ce qu'est un Jupyter Notebook et comment l'utiliser.\n",
    "\n",
    "## 1. Définition\n",
    "\n",
    "Un **Jupyter Notebook** est un environnement de développement interactif qui permet de créer et partager des documents contenant :\n",
    "\n",
    "- Du code exécutable\n",
    "- Du texte formaté (Markdown)\n",
    "- Des équations mathématiques\n",
    "- Des visualisations\n",
    "- Des médias (images, vidéos, etc.)\n",
    "\n",
    "Le nom **Jupyter** vient de la combinaison de trois langages de programmation principaux :\n",
    "\n",
    "- **Ju**lia\n",
    "- **Py**thon\n",
    "- **R**\n",
    "\n",
    "\n",
    "\n",
    "## 2. Structure d'un Notebook\n",
    "\n",
    "Un Jupyter Notebook est composé de **cellules** de différents types :\n",
    "\n",
    "**Types de cellules :**\n",
    "- Cellules Markdown : Contiennent du texte formaté\n",
    "- Cellules de code : Contiennent du code exécutable\n",
    "- Cellules Raw : Contiennent du texte brut (non formaté)\n",
    "\n",
    "Le type d'une cellule donnée s'affiche dans le menu du haut lorsque vous cliquez sur elle.\n",
    "\n",
    "\n",
    "\n",
    "\n",
    "\n",
    "\n"
   ]
  },
  {
   "cell_type": "markdown",
   "id": "d85ec708-95f9-4386-b53b-d50f71142542",
   "metadata": {},
   "source": [
    "### Exemple de cellule en Markdown  \n",
    "\n",
    "Le markdown est un système de notation développé par John Gruber. Il permet de formater du texte de manière simple et lisible, même dans sa forme brute.              \n",
    "\n",
    "\n",
    "\n",
    "# P. ex.\n",
    "## le Markdown\n",
    "### permet d'afficher\n",
    "#### différents niveaux de titres     \n",
    "\n",
    "\n",
    "\n",
    "Il permet aussi de placer du texte en **gras** ou en *italique*, ou même ***les deux***. On peut aussi facilement créer :\n",
    "- des\n",
    "- listes\n",
    "- d'éléments  \n",
    "\n",
    "\n",
    "\n",
    "1. Que celles-ci\n",
    "2. soient\n",
    "3. numérotées\n",
    "   1. ou\n",
    "   2. non  \n",
    "\n",
    "\n",
    "\n",
    "| Le Markdown | permet | également |\n",
    "|:-----------|:---------:|----------:|\n",
    "| d'afficher   | des    | tableaux    |\n",
    "| avec cellules justifiées à gauche   | au centre  | ou à droite   |  \n",
    "\n",
    "\n",
    "\n",
    "\n",
    "> On peut également utiliser le Markdown pour afficher des citations et ainsi mieux les distinguer du reste du texte.    \n"
   ]
  },
  {
   "cell_type": "raw",
   "id": "966412eb-efba-4572-8dcf-5f7b2fbd9252",
   "metadata": {},
   "source": [
    "### Exemple de cellule en Markdown  \n",
    "\n",
    "Le markdown est un système de notation développé par John Gruber. Il permet de formater du texte de manière simple et lisible, même dans sa forme brute.              \n",
    "\n",
    "\n",
    "\n",
    "# P. ex.\n",
    "## le Markdown\n",
    "### permet d'afficher\n",
    "#### différents niveaux de titres     \n",
    "\n",
    "\n",
    "\n",
    "Il permet aussi de placer du texte en **gras** ou en *italique*, ou même ***les deux***. On peut aussi facilement créer :\n",
    "- des\n",
    "- listes\n",
    "- d'éléments  \n",
    "\n",
    "\n",
    "\n",
    "1. Que celles-ci\n",
    "2. soient\n",
    "3. numérotées\n",
    "   1. ou\n",
    "   2. non  \n",
    "\n",
    "\n",
    "\n",
    "| Le Markdown | permet | également |\n",
    "|:-----------|:---------:|----------:|\n",
    "| d'afficher   | des    | tableaux    |\n",
    "| avec cellules justifiées à gauche   | au centre  | ou à droite   |  \n",
    "\n",
    "\n",
    "\n",
    "\n",
    "> On peut également utiliser le Markdown pour afficher des citations et ainsi mieux les distinguer du reste du texte.    \n"
   ]
  },
  {
   "cell_type": "markdown",
   "id": "f271b52e-be9f-4636-b97f-85746f9c69e7",
   "metadata": {},
   "source": [
    "## 3. Pourquoi Jupyter Notebook?\n",
    "\n",
    "Nous allons utiliser les Notebooks car ils sont une façon relativement aisée d'utiliser l'environnement de programmation Python. Nous présenterons Python plus en détail dans un instant, mais en attendant, regardons simplement comment fonctionnent les cellules de type **code**. Cliquez dans la cellule qui suit, et faites *Run this cell* (⏵). "
   ]
  },
  {
   "cell_type": "code",
   "execution_count": 1,
   "id": "4fe88947-4e1a-4fc2-83c5-a014f99fe919",
   "metadata": {},
   "outputs": [
    {
     "name": "stdout",
     "output_type": "stream",
     "text": [
      "Hello world!\n"
     ]
    }
   ],
   "source": [
    "print(\"Hello world!\")"
   ]
  },
  {
   "cell_type": "code",
   "execution_count": null,
   "id": "d124bf72-84f1-49ff-aa89-5f5eebde1a39",
   "metadata": {},
   "outputs": [],
   "source": []
  }
 ],
 "metadata": {
  "kernelspec": {
   "display_name": "Python 3 (ipykernel)",
   "language": "python",
   "name": "python3"
  },
  "language_info": {
   "codemirror_mode": {
    "name": "ipython",
    "version": 3
   },
   "file_extension": ".py",
   "mimetype": "text/x-python",
   "name": "python",
   "nbconvert_exporter": "python",
   "pygments_lexer": "ipython3",
   "version": "3.11.7"
  }
 },
 "nbformat": 4,
 "nbformat_minor": 5
}
