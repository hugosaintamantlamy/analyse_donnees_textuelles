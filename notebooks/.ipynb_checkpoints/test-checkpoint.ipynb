{
 "cells": [
  {
   "cell_type": "code",
   "execution_count": null,
   "id": "db423c25-ad0d-48a7-b0ee-8690e4be3494",
   "metadata": {},
   "outputs": [],
   "source": [
    "# titre 1\n",
    "\n",
    "## titre 2\n",
    "\n",
    "\n",
    "dalueakmdasd\n",
    "asdlajsdasd\n",
    "\n",
    "\n"
   ]
  },
  {
   "cell_type": "code",
   "execution_count": 2,
   "id": "4debd29b-1099-418a-917e-c5358f03bd6d",
   "metadata": {},
   "outputs": [
    {
     "name": "stdout",
     "output_type": "stream",
     "text": [
      "a\n",
      "b\n",
      "c\n"
     ]
    }
   ],
   "source": [
    "for i in [\"a\", \"b\", \"c\"]:\n",
    "    print(i)"
   ]
  },
  {
   "cell_type": "code",
   "execution_count": 3,
   "id": "ad9920a1-2cb8-4fc5-b3cd-5142f9145b50",
   "metadata": {},
   "outputs": [
    {
     "name": "stdout",
     "output_type": "stream",
     "text": [
      "Bonjour, ceci est un test !\n",
      "ANALYSE TEXTUELLE\n"
     ]
    }
   ],
   "source": [
    "# Cellule 1 (code)\n",
    "print(\"Bonjour, ceci est un test !\")\n",
    "\n",
    "# Cellule 2 (code)\n",
    "phrase = \"Analyse textuelle\"\n",
    "print(phrase.upper())"
   ]
  }
 ],
 "metadata": {
  "kernelspec": {
   "display_name": "Python 3 (ipykernel)",
   "language": "python",
   "name": "python3"
  },
  "language_info": {
   "codemirror_mode": {
    "name": "ipython",
    "version": 3
   },
   "file_extension": ".py",
   "mimetype": "text/x-python",
   "name": "python",
   "nbconvert_exporter": "python",
   "pygments_lexer": "ipython3",
   "version": "3.11.7"
  }
 },
 "nbformat": 4,
 "nbformat_minor": 5
}
