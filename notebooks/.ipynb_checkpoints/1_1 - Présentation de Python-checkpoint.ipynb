{
 "cells": [
  {
   "cell_type": "code",
   "execution_count": null,
   "id": "c1d97bfc-81e2-4e08-8ee7-74759a9c847d",
   "metadata": {},
   "outputs": [],
   "source": [
    "################\n",
    "# Code Python ##\n",
    "################\n",
    "\n",
    "# Le code Python est présenté sous forme de texte "
   ]
  },
  {
   "cell_type": "markdown",
   "id": "b00b82a9-4085-414e-bea3-c3fab2f18ffc",
   "metadata": {},
   "source": [
    "# "
   ]
  }
 ],
 "metadata": {
  "kernelspec": {
   "display_name": "Python 3 (ipykernel)",
   "language": "python",
   "name": "python3"
  },
  "language_info": {
   "codemirror_mode": {
    "name": "ipython",
    "version": 3
   },
   "file_extension": ".py",
   "mimetype": "text/x-python",
   "name": "python",
   "nbconvert_exporter": "python",
   "pygments_lexer": "ipython3",
   "version": "3.11.7"
  }
 },
 "nbformat": 4,
 "nbformat_minor": 5
}
