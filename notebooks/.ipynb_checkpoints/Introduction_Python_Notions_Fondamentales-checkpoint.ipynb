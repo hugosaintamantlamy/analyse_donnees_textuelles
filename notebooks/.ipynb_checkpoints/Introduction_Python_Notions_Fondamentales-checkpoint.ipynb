{
 "cells": [
  {
   "cell_type": "markdown",
   "id": "ce473ae5",
   "metadata": {},
   "source": [
    "## 1. Qu’est-ce qu’un langage de programmation ?"
   ]
  },
  {
   "cell_type": "markdown",
   "id": "c8ace06c",
   "metadata": {},
   "source": [
    "Un langage de programmation est un système permettant à un humain de transmettre des instructions à un ordinateur. \n",
    "\n",
    "Chaque langage de programmation a ses avantages (p. ex. C++ pour le développement d'applications, JavaScriptpour le web, R pour les statistiques...). \n",
    "\n",
    "Python est un langage (relativement) facile d'approche, beaucoup utilisé dans le traitement de données textuelles. \n",
    "\n"
   ]
  },
  {
   "cell_type": "markdown",
   "id": "86ffdad6-0bae-48c4-9401-506d04423da8",
   "metadata": {},
   "source": [
    "### Une ligne = une instruction\n",
    "- Chaque ligne d'un script Python correspond à une instruction.\n",
    "- Quand la tâche associée à une ligne est terminée, Python passe à la ligne suivante.\n",
    "- Les lignes commençant pas un symbole dièse (#) sont ignorées par Python. Elles peuvent être utilisées pour.\n",
    "- Dans Jupyter Notebook, vous pouvez afficher les numéros de ligne en faisant *View > Show Line Numbers*. Cela permet de mieux vous situer dans le code. "
   ]
  },
  {
   "cell_type": "code",
   "execution_count": 1,
   "id": "69cb5000",
   "metadata": {},
   "outputs": [
    {
     "name": "stdout",
     "output_type": "stream",
     "text": [
      "Salut\n"
     ]
    }
   ],
   "source": [
    "# UM PREMIER SCRIPT\n",
    "# Vous êtes prêt-e-s à créer votre premier script Python. \n",
    "# Nous allons illustrer la fonction 'print', qui permet d'afficher quelque chose.\n",
    "# Écrivez n'importe quoi entre les guillemets et faites Shift+Enter (ou le petit triangle dans le menu du haut)\n",
    "\n",
    "print(\"Salut\")"
   ]
  },
  {
   "cell_type": "markdown",
   "id": "a643e4f6",
   "metadata": {},
   "source": [
    "### Types d'objets dans Python\n",
    "- Python peut manipuler différents types d'objets : \n",
    "    - **Chaînes de caractères** (*strings*). Suite plus ou moins longues de caractères alphabétiques ou autres. Les chaînes de caractères sont toujours entre guillemets (simple ou doubles). Elles peuvent faire l'objet de différentes manipulations.\n",
    "    - **Nombres entiers** (*integers* ou *int*). Nombres sans partie fractionnaire. Sont souvent utilisés pour référer au rang d'un item dans un ensemble.\n",
    "    - **Nombres réels** (*float*). Nombres qui peuvent avoir ou non une partie fractionnaire. On utilise le point plutôt que la virgule pour séparer les entiers des décimales.\n",
    "    - **Valeurs booléennes** (*boolean* ou *bool*). Objet qui représentent des valeurs de vérité : vrai (*True*) ou faux (*False*)\n",
    "\n",
    "- On peut connaître le type d'un objet avec la fonction 'type'.\n",
    " \n",
    " "
   ]
  },
  {
   "cell_type": "code",
   "execution_count": 2,
   "id": "afc7539f-ae83-4634-a99d-f815c6b480ba",
   "metadata": {},
   "outputs": [
    {
     "name": "stdout",
     "output_type": "stream",
     "text": [
      "salut <class 'str'>\n",
      "1 <class 'int'>\n",
      "1.05 <class 'float'>\n",
      "True <class 'bool'>\n"
     ]
    }
   ],
   "source": [
    "print(\"salut\", type(\"salut\"))\n",
    "\n",
    "print(1, type(1))\n",
    "\n",
    "print(1.05, type(1.05))\n",
    "\n",
    "print(True, type(True))"
   ]
  },
  {
   "cell_type": "markdown",
   "id": "1f9c7b6d-18dd-4914-a8d1-30da9726e116",
   "metadata": {},
   "source": [
    "### Manipulation des objets\n",
    "- Tous les objets peuvent faire l'objet de manipulations"
   ]
  },
  {
   "cell_type": "code",
   "execution_count": 4,
   "id": "bd9e887b-d36a-4ee5-9da6-8276de7439fe",
   "metadata": {},
   "outputs": [
    {
     "name": "stdout",
     "output_type": "stream",
     "text": [
      "True\n"
     ]
    }
   ],
   "source": [
    "# Manipulations des nombres entiers\n",
    "# Python peut fonctionner comme une calculatrice\n",
    "\n",
    "print(1 == 1)\n"
   ]
  },
  {
   "cell_type": "markdown",
   "id": "72879692",
   "metadata": {},
   "source": [
    "## 4. Variables"
   ]
  },
  {
   "cell_type": "code",
   "execution_count": 37,
   "id": "041eefb4",
   "metadata": {},
   "outputs": [],
   "source": [
    "x = 10"
   ]
  },
  {
   "cell_type": "code",
   "execution_count": 38,
   "id": "39f6a6a9",
   "metadata": {},
   "outputs": [],
   "source": [
    "y = 3.5"
   ]
  },
  {
   "cell_type": "code",
   "execution_count": 39,
   "id": "d66847a1",
   "metadata": {},
   "outputs": [],
   "source": [
    "nom = \"Alice\""
   ]
  },
  {
   "cell_type": "code",
   "execution_count": 40,
   "id": "e7df816b",
   "metadata": {},
   "outputs": [
    {
     "name": "stdout",
     "output_type": "stream",
     "text": [
      "10 3.5 Alice\n"
     ]
    }
   ],
   "source": [
    "print(x, y, nom)"
   ]
  },
  {
   "cell_type": "markdown",
   "id": "7d3eff9d",
   "metadata": {},
   "source": [
    "## 5. Types de base"
   ]
  },
  {
   "cell_type": "code",
   "execution_count": null,
   "id": "90912741",
   "metadata": {},
   "outputs": [],
   "source": [
    "a = 5           # entier (int)"
   ]
  },
  {
   "cell_type": "code",
   "execution_count": null,
   "id": "67359317",
   "metadata": {},
   "outputs": [],
   "source": [
    "b = 2.7         # nombre à virgule (float)"
   ]
  },
  {
   "cell_type": "code",
   "execution_count": null,
   "id": "7edbc8d6",
   "metadata": {},
   "outputs": [],
   "source": [
    "c = \"bonjour\"  # chaîne de caractères (str)"
   ]
  },
  {
   "cell_type": "code",
   "execution_count": null,
   "id": "a855ee5c",
   "metadata": {},
   "outputs": [],
   "source": [
    "d = True        # booléen"
   ]
  },
  {
   "cell_type": "code",
   "execution_count": null,
   "id": "3f1f5d45",
   "metadata": {},
   "outputs": [],
   "source": [
    "print(type(a), type(b), type(c), type(d))"
   ]
  },
  {
   "cell_type": "markdown",
   "id": "b36e2b12",
   "metadata": {},
   "source": [
    "## 6. Afficher des résultats"
   ]
  },
  {
   "cell_type": "code",
   "execution_count": null,
   "id": "f2ba5dcf",
   "metadata": {},
   "outputs": [],
   "source": [
    "message = \"Bienvenue en Python\""
   ]
  },
  {
   "cell_type": "code",
   "execution_count": null,
   "id": "337e72e0",
   "metadata": {},
   "outputs": [],
   "source": [
    "print(message)"
   ]
  },
  {
   "cell_type": "markdown",
   "id": "d945aa34",
   "metadata": {},
   "source": [
    "## 7. Opérations de base"
   ]
  },
  {
   "cell_type": "code",
   "execution_count": 33,
   "id": "1c92b10d",
   "metadata": {},
   "outputs": [],
   "source": [
    "a = 8"
   ]
  },
  {
   "cell_type": "code",
   "execution_count": 34,
   "id": "a232f6b3",
   "metadata": {},
   "outputs": [],
   "source": [
    "b = 3"
   ]
  },
  {
   "cell_type": "code",
   "execution_count": 35,
   "id": "5993e14b",
   "metadata": {},
   "outputs": [
    {
     "name": "stdout",
     "output_type": "stream",
     "text": [
      "Addition: 11\n"
     ]
    }
   ],
   "source": [
    "print(\"Addition:\", a + b)"
   ]
  },
  {
   "cell_type": "code",
   "execution_count": 36,
   "id": "29ae88b3",
   "metadata": {},
   "outputs": [
    {
     "name": "stdout",
     "output_type": "stream",
     "text": [
      "Multiplication: 24\n"
     ]
    }
   ],
   "source": [
    "print(\"Multiplication:\", a * b)"
   ]
  },
  {
   "cell_type": "code",
   "execution_count": null,
   "id": "9b9b39c7",
   "metadata": {},
   "outputs": [],
   "source": [
    "print(\"Division:\", a / b)"
   ]
  },
  {
   "cell_type": "code",
   "execution_count": null,
   "id": "34639a3c",
   "metadata": {},
   "outputs": [],
   "source": [
    "print(\"Puissance:\", a ** b)"
   ]
  },
  {
   "cell_type": "markdown",
   "id": "63fc081b",
   "metadata": {},
   "source": [
    "## 8. Concaténation et répétition de chaînes"
   ]
  },
  {
   "cell_type": "code",
   "execution_count": null,
   "id": "c434bcae",
   "metadata": {},
   "outputs": [],
   "source": [
    "nom = \"Alice\""
   ]
  },
  {
   "cell_type": "code",
   "execution_count": null,
   "id": "2ba0a587",
   "metadata": {},
   "outputs": [],
   "source": [
    "print(\"Bonjour \" + nom)"
   ]
  },
  {
   "cell_type": "code",
   "execution_count": null,
   "id": "131e54bc",
   "metadata": {},
   "outputs": [],
   "source": [
    "print(\"ha\" * 3)"
   ]
  },
  {
   "cell_type": "markdown",
   "id": "11050105",
   "metadata": {},
   "source": [
    "## 9. Méthodes de chaînes"
   ]
  },
  {
   "cell_type": "code",
   "execution_count": null,
   "id": "a8dc1b36",
   "metadata": {},
   "outputs": [],
   "source": [
    "texte = \"Ceci est un exemple\""
   ]
  },
  {
   "cell_type": "code",
   "execution_count": null,
   "id": "9ee21f2b",
   "metadata": {},
   "outputs": [],
   "source": [
    "print(texte.upper())"
   ]
  },
  {
   "cell_type": "code",
   "execution_count": null,
   "id": "c9c86bc7",
   "metadata": {},
   "outputs": [],
   "source": [
    "print(texte.replace(\"exemple\", \"test\"))"
   ]
  },
  {
   "cell_type": "markdown",
   "id": "c6c6dafe",
   "metadata": {},
   "source": [
    "## 10. Entrées utilisateur simples"
   ]
  },
  {
   "cell_type": "code",
   "execution_count": null,
   "id": "326a118f",
   "metadata": {},
   "outputs": [],
   "source": [
    "# Ceci ne fonctionne pas bien dans certains notebooks mais montre la syntaxe :"
   ]
  },
  {
   "cell_type": "code",
   "execution_count": null,
   "id": "7e7f90b0",
   "metadata": {},
   "outputs": [],
   "source": [
    "# nom = input(\"Quel est votre nom ? \")"
   ]
  },
  {
   "cell_type": "code",
   "execution_count": null,
   "id": "987404de",
   "metadata": {},
   "outputs": [],
   "source": [
    "# print(\"Bonjour, \" + nom)"
   ]
  }
 ],
 "metadata": {
  "kernelspec": {
   "display_name": "Python 3 (ipykernel)",
   "language": "python",
   "name": "python3"
  },
  "language_info": {
   "codemirror_mode": {
    "name": "ipython",
    "version": 3
   },
   "file_extension": ".py",
   "mimetype": "text/x-python",
   "name": "python",
   "nbconvert_exporter": "python",
   "pygments_lexer": "ipython3",
   "version": "3.11.7"
  }
 },
 "nbformat": 4,
 "nbformat_minor": 5
}
