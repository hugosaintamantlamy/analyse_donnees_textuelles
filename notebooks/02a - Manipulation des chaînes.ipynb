{
 "cells": [
  {
   "cell_type": "markdown",
   "id": "9191258c-cfd2-42b3-a1b7-cf871420c23c",
   "metadata": {},
   "source": [
    "# Manipulation des chaînes de caractères\n",
    "\n",
    "Dans ce notebook, nous verrons différentes façons de manipuler les chaînes de caractères dans Python. Ces fonctions peuvent être appliquées aussi bien à des mots isolés qu'à des romans entiers. \n",
    "\n",
    "## Objectifs\n",
    "- Comprendre les enjeux liés à l'encodage textuel\n",
    "- Découvrir les principales fonctions pour manipuler des chaînes de caractères\n",
    "\n",
    "\n",
    "---"
   ]
  },
  {
   "cell_type": "markdown",
   "id": "ba5fd655-1355-49c9-a2fd-e2ee18d9787d",
   "metadata": {},
   "source": [
    "## 1. L'encodage des caractères : faire le pont entre l'humain et la machine\n",
    "\n",
    "Les ordinateurs ne comprennent qu'une seule chose : les nombres en binaire (0 et 1). Mais comment transformer \"Longtemps, je me suis couché de bonne heure\" en 0 et 1 ?\n",
    "\n",
    "**Le processus (en gros):**\n",
    "1. Chaque caractère est représenté sous la forme d'un nombre unique (code)\n",
    "2. Ce nombre est converti en binaire  \n",
    "3. L'ordinateur stocke ces séquences de 0 et 1\n",
    "\n",
    "**Représentation binaire des nombres :**\n",
    "0 : 0\n",
    "1 : 1\n",
    "2 : 10\n",
    "3 : 11\n",
    "4 : 100\n",
    "10 : 1010\n",
    "20 : 10100\n",
    "...\n"
   ]
  },
  {
   "cell_type": "code",
   "execution_count": 133,
   "id": "7e2d6f84-2386-48a7-a77e-eeb53577e294",
   "metadata": {},
   "outputs": [
    {
     "name": "stdout",
     "output_type": "stream",
     "text": [
      "Caractère : A\n",
      "Code numérique : 65\n",
      "En binaire : 0b1000001\n"
     ]
    }
   ],
   "source": [
    "# Voyons comment un caractère est converti en binaire\n",
    "caractere = 'A'\n",
    "print(\"Caractère :\", caractere)\n",
    "\n",
    "# 1. D'abord, le code numérique \n",
    "code_numerique = ord(caractere)\n",
    "print(\"Code numérique :\", code_numerique)\n",
    "\n",
    "# 2. Puis la conversion en binaire\n",
    "code_binaire = bin(code_numerique)\n",
    "print(\"En binaire :\", code_binaire)\n",
    "\n"
   ]
  },
  {
   "cell_type": "markdown",
   "id": "fac0e536-e912-4539-9e04-d7d949ec7d38",
   "metadata": {},
   "source": [
    "### 1.1 Qu'est-ce que l'encodage des caractères ?\n",
    "\n",
    "L'encodage des caractères est la façon dont un ordinateur représente les lettres, chiffres et symboles que nous utilisons dans nos textes. C'est un espèce de dictionnaire qui spécifie, par exemple : « le caractère 'é' correspond au nombre 233, qui devient 11101001 en binaire ».\n",
    "\n",
    "\n",
    "**Le problème :** Il existe plusieurs normes d'encodage."
   ]
  },
  {
   "cell_type": "markdown",
   "id": "a29a3789-1120-4f8a-bd6f-294cd8c25cbc",
   "metadata": {},
   "source": [
    "### 1.2 ASCII : Les débuts de l'encodage\n",
    "\n",
    "L'ASCII (American Standard Code for Information Interchange) a été créé en 1963. Il a longtemps été la norme pour l'encodage des caractères informatiques. Il encode 128 caractères, dont 95 caractères imprimables :\n",
    "- 26 lettres minuscules (abcdefghijklmnopqrstuvwxyz)\n",
    "- 26 lettres majuscules (ABCDEFGHIJKLMNOPQRSTUVWXYZ)  \n",
    "- 10 chiffres (0123456789)\n",
    "- 33 symboles de ponctuation et caractères spéciaux ( !\"#$%&'()*+,-./:;<=>?[\\]^_`{|}~@)\n",
    "\n",
    "\n",
    "Pouvez-vous voir le problème que pose potentiellement le standard ASCII pour nous?"
   ]
  },
  {
   "cell_type": "code",
   "execution_count": null,
   "id": "5d8faf51-212d-4912-bdca-c9e022889ec2",
   "metadata": {},
   "outputs": [],
   "source": [
    "#\n",
    "\n",
    "\n",
    "\n",
    "\n",
    "\n",
    "\n",
    "\n",
    "\n",
    "\n",
    "\n",
    "\n",
    "\n",
    "\n",
    "\n",
    "\n",
    "\n",
    "\n",
    "\n",
    "\n",
    "\n",
    "\n",
    "\n",
    "#"
   ]
  },
  {
   "cell_type": "markdown",
   "id": "34e0a33e-8217-4d17-bdef-057b5a221607",
   "metadata": {},
   "source": [
    "### 1.3 Latin-1 : Une solution pour les langues européennes\n",
    "\n",
    "Latin-1 (ISO 8859-1) étend ASCII en ajoutant 128 caractères supplémentaires pour couvrir les langues européennes occidentales. Il inclut les caractères accentués français, allemands, espagnols, etc.\n",
    "\n",
    "**Avantages :**\n",
    "- Compatible avec ASCII\n",
    "- Couvre la plupart des caractères français\n",
    "\n",
    "**Inconvénients :**\n",
    "- Limité aux langues européennes occidentales\n",
    "- Pas de support pour autres systèmes d'écriture (grec, cyrillique, hanzi, kana, devanagari...)"
   ]
  },
  {
   "cell_type": "markdown",
   "id": "fda93793-4aa5-48f4-a52e-ffe5fb28c7f1",
   "metadata": {},
   "source": [
    "### 1.4 UTF-8 : L'encodage universel\n",
    "\n",
    "UTF-8 (Unicode Transformation Format - 8 bits) est devenu le standard moderne. Il peut représenter tous les caractères de toutes les langues du monde.\n",
    "\n",
    "**Caractéristiques principales :**\n",
    "- Compatible avec ASCII (les 128 premiers caractères sont identiques)\n",
    "- Peut encoder plus d'un million de caractères différents\n",
    "- Standard du web moderne\n",
    "- Encodage par défaut dans Python\n",
    "\n",
    "**Dans le monde des études littéraires ?**\n",
    "- Permet des corpus multilingues (français, grec ancien, arabe, chinois...)\n",
    "- Préservation exacte des textes originaux (p. ex *eſprit* vs *esprit*, *ꝗ* abbréviatif)"
   ]
  },
  {
   "cell_type": "markdown",
   "id": "92613a25-0d0e-4f6b-bec3-aaaedfc4ea26",
   "metadata": {},
   "source": [
    "### 1.5 Les erreurs d'encodage : source intarissable de maux de tête\n",
    "\n",
    "Les problèmes d'encodage peuvent transformer un texte en charabia quasi-illisible et interférer avec les analyses. Heureusement, ces problèmes sont normalement visuellement assez évidents.\n",
    "\n",
    "**Exemples de problèmes d'encodage :**\n",
    "- `Ã©` au lieu de `é`\n",
    "- `â€™` au lieu de `'`\n",
    "- `???` ou `�` pour des caractères non reconnus\n",
    "\n",
    "**Causes principales :**\n",
    "- Mauvais encodage lors de la lecture du fichier\n",
    "- Conversion d'encodage incorrecte\n",
    "- Caractères non supportés par l'encodage choisi\n",
    "\n",
    "**Bonnes pratiques pour éviter les problèmes:**\n",
    "- Prioriser UTF-8 pour les nouveaux projets\n",
    "- Toujours spécifier l'encodage lors de l'ouverture et la sauvegarde des fichiers\n",
    "- Garder des copies de sécurité lors de conversion d'encodage (risque d'«endommager» les fichiers)\n"
   ]
  },
  {
   "cell_type": "markdown",
   "id": "307297d3-557b-41d3-838d-fb751b7e8367",
   "metadata": {},
   "source": [
    "## 2. La manipulation des chaînes de caractères\n",
    "\n",
    "**Rappel :** En Python, une chaîne de caractères (*string*) est une séquence ordonnée de caractères.\n",
    "\n",
    "Pour l'instant, nous avons vu comment identifier une chaîne (`type`), comment l'imprimer (`print`) et comment en mesurer la longueur (`len`)."
   ]
  },
  {
   "cell_type": "markdown",
   "id": "83b92037-230b-4f8f-8cd9-3c01a9c42384",
   "metadata": {},
   "source": [
    "### 2.1 Rappel : différentes façons de créer des chaînes"
   ]
  },
  {
   "cell_type": "code",
   "execution_count": 134,
   "id": "328f6f02-2a0c-488c-9dd2-e3d5fd24addc",
   "metadata": {},
   "outputs": [
    {
     "name": "stdout",
     "output_type": "stream",
     "text": [
      "Auteur : Charles Baudelaire\n",
      "Ouvrage : Le Spleen de Paris\n",
      "\n",
      "\n",
      "\n",
      "« Il faut être toujours ivre, tout est là ; c'est l'unique question. \n",
      "Pour ne pas sentir l'horrible fardeau du temps qui brise vos épaules \n",
      "et vous penche vers la terre, il faut vous enivrer sans trêve. \n",
      "Mais de quoi? De vin, de poésie, ou de vertu à votre guise, \n",
      "mais enivrez-vous! »\n",
      "\n",
      "\n",
      "\n"
     ]
    }
   ],
   "source": [
    "# quelques chaînes de caractères, avec différents guillemets\n",
    "auteur = 'Charles Baudelaire'\n",
    "titre = \"Le Spleen de Paris\"\n",
    "citation = \"\"\"\n",
    "« Il faut être toujours ivre, tout est là ; c'est l'unique question. \n",
    "Pour ne pas sentir l'horrible fardeau du temps qui brise vos épaules \n",
    "et vous penche vers la terre, il faut vous enivrer sans trêve. \n",
    "Mais de quoi? De vin, de poésie, ou de vertu à votre guise, \n",
    "mais enivrez-vous! »\n",
    "\"\"\"\n",
    "\n",
    "# Impression des chaînes\n",
    "print(\"Auteur :\", auteur)\n",
    "print(\"Ouvrage :\", titre)\n",
    "print(\"\")\n",
    "print(\"\")\n",
    "print(citation)\n",
    "print(\"\")\n",
    "print(\"\")\n"
   ]
  },
  {
   "cell_type": "code",
   "execution_count": 135,
   "id": "782c2b03-7c77-4acd-b201-097da2c09668",
   "metadata": {},
   "outputs": [
    {
     "name": "stdout",
     "output_type": "stream",
     "text": [
      "Type de la variable 'auteur' : <class 'str'>\n",
      "Longueur de la citation :  287 caractères\n"
     ]
    }
   ],
   "source": [
    "# Les chaînes sont des objets avec des propriétés\n",
    "\n",
    "# Impression du type de la variable 'auteur'\n",
    "print(\"Type de la variable 'auteur' :\", type(auteur))\n",
    "\n",
    "# Impression du nombre de caractère dans la variable 'citation'\n",
    "print(\"Longueur de la citation : \", len(citation), \"caractères\")"
   ]
  },
  {
   "cell_type": "markdown",
   "id": "cedaa24e-a860-4e14-8bd4-9e38de9b7464",
   "metadata": {},
   "source": [
    "### 2.2 Quelques caractères spéciaux\n",
    "\n",
    "Une chaîne peut comprendre des caractères spéciaux, remplissant différentes fonctions. Ces caractères sont précédés par le symbole `\\`, qui indique à Python que le caractère qui suit a une valeur spéciale.\n",
    "\n",
    "**Quelques caractères spéciaux :**\n",
    "- `\\n` : saut de ligne\n",
    "- `\\t` : tabulation\n",
    "- `\\\"` : permet d'utiliser des guillemets à l'intérieur de guillemets de même type (p. ex. `\"J'ai dit \\\"Bien sûr\\\"\"`)"
   ]
  },
  {
   "cell_type": "code",
   "execution_count": 136,
   "id": "b8b95046-0bb4-43ff-b43a-80b5bcddaeae",
   "metadata": {},
   "outputs": [
    {
     "name": "stdout",
     "output_type": "stream",
     "text": [
      "Un matin de bonne heure, \n",
      "tard dans le siècle, \n",
      "à Cricklewood Broadway\n",
      "\n",
      "Je m’appelle Ishmaël.\tMettons.  \n",
      "\n"
     ]
    }
   ],
   "source": [
    "# Regardez à quoi correspondent les chaînes suivantes :\n",
    "\n",
    "sourires_de_loup = \"Un matin de bonne heure, \\ntard dans le siècle, \\nà Cricklewood Broadway\"\n",
    "\n",
    "moby_dick = \"Je m’appelle Ishmaël.\\tMettons.  \"\n",
    "\n",
    "print(sourires_de_loup)\n",
    "print(\"\")\n",
    "print(moby_dick)\n",
    "print(\"\")"
   ]
  },
  {
   "cell_type": "markdown",
   "id": "c7236524-0997-4c98-9790-9a27392fefb5",
   "metadata": {},
   "source": [
    "### 2.3 La chaîne comme séquence d'élément\n",
    "\n",
    "Les chaînes de caractères sont des séquences d'éléments, un peu comme les listes, que nous avons vues précédemment. Comme avec les listes, il est donc possible d'utiliser les boucles (p. ex. `for`) pour traiter en série chaque élément d'une chaîne.\n"
   ]
  },
  {
   "cell_type": "code",
   "execution_count": 46,
   "id": "063a25e1-83d2-42ee-b896-7a54d46ace66",
   "metadata": {},
   "outputs": [
    {
     "name": "stdout",
     "output_type": "stream",
     "text": [
      "e\n",
      "u\n",
      "e\n",
      "u\n",
      "u\n",
      "i\n",
      "o\n",
      "e\n",
      "U\n",
      "y\n",
      "e\n",
      "a\n",
      "a\n",
      "i\n",
      "u\n",
      "e\n",
      "a\n",
      "u\n",
      "o\n",
      "y\n",
      "a\n",
      "e\n",
      "H\n",
      "r\n",
      "x\n",
      "q\n",
      "c\n",
      "m\n",
      "m\n",
      "l\n",
      "s\n",
      "s\n",
      "f\n",
      "t\n",
      "n\n",
      "b\n",
      "v\n",
      "g\n"
     ]
    }
   ],
   "source": [
    "# Consonnes et voyelles\n",
    "\n",
    "# Nous avons déjà vu l'opérateur `in`, qui vérifie si un élément est présent dans un autre.\n",
    "# Cet opérateur nous permet d'analyser une chaîne en regardant de quoi elle est constituée.\n",
    "# Par exemple, imprimons toutes les voyelles, puis toutes les consonnes d'une chaîne.\n",
    "\n",
    "\n",
    "# Une chaîne. Ici, premier vers du sonnet Heureux qui, comme Ulysse, de Joachim du Bellay (1553-1557)\n",
    "ulysse = \"Heureux qui, comme Ulysse, a fait un beau voyage\"\n",
    "\n",
    "# listes des voyelles et consonnes du français\n",
    "voyelles = [\n",
    "    'a', 'e', 'i', 'o', 'u', 'y','à', 'â', 'è', 'é', 'ê', 'ë', 'î', 'ï', 'ô', 'ù', 'û', 'ü', 'ÿ',\n",
    "    'A', 'E', 'I', 'O', 'U', 'Y', 'À', 'Â', 'È', 'É', 'Ê', 'Ë', 'Î', 'Ï', 'Ô', 'Ù', 'Û', 'Ü', 'Ÿ']\n",
    "consonnes = [\n",
    "    'b', 'c', 'd', 'f', 'g', 'h', 'j', 'k', 'l', 'm', 'n', 'p', 'q', 'r', 's', 't', 'v', 'w', 'x', 'z', 'ç',\n",
    "    'B', 'C', 'D', 'F', 'G', 'H', 'J', 'K', 'L', 'M', 'N', 'P', 'Q', 'R', 'S', 'T', 'V', 'W', 'X', 'Z', 'Ç']\n",
    "\n",
    "\n",
    "# Pour chaque élément de la chaîne 'ulysse', vérifier si l'élément est dans la liste 'voyelles'\n",
    "# Si oui, l'imprimer\n",
    "for lettre in ulysse:\n",
    "    if lettre in voyelles :\n",
    "        print(lettre)\n",
    "\n",
    "# Pour chaque élément de la chaîne 'ulysse', vérifier si l'élément est dans la liste 'consonnes'\n",
    "# Si oui, l'imprimer\n",
    "for lettre in ulysse:\n",
    "    if lettre in consonnes:\n",
    "        print(lettre)"
   ]
  },
  {
   "cell_type": "code",
   "execution_count": 49,
   "id": "54bda568-46cb-4611-95e9-ee60dec1bf10",
   "metadata": {},
   "outputs": [
    {
     "name": "stdout",
     "output_type": "stream",
     "text": [
      "Nombre de voyelles : 22\n",
      "Nombre de consonnes : 16\n"
     ]
    }
   ],
   "source": [
    "# Compter des éléments\n",
    "\n",
    "# Imprimer de longues colonnes de lettres n'est pas une façon idéale de traiter une chaîne.\n",
    "# On pourrait plutôt vouloir compter combien de consonnes et de voyelles s'y trouvent,\n",
    "# puis imprimer ce nombre.\n",
    "\n",
    "# Pour y arriver, on peut utiliser des variables numériques comme compteurs\n",
    "# Ces compteurs peuvent être mis à jour au fil du code\n",
    "\n",
    "# valeurs initiales pour les compteurs\n",
    "nb_voyelles = 0\n",
    "nb_consonnes = 0\n",
    "\n",
    "\n",
    "# Pour chaque élément de la chaîne 'ulysse', vérifier si l'élément est dans la liste 'voyelles'\n",
    "# Si oui, ajouter 1 au compteur de voyelles\n",
    "for lettre in ulysse:\n",
    "    if lettre in voyelles :\n",
    "        nb_voyelles = nb_voyelles + 1 \n",
    "\n",
    "# Pour chaque élément de la chaîne 'ulysse', vérifier si l'élément est dans la liste 'consonnes'\n",
    "# Si oui, ajouter 1 au compteur de consonnes\n",
    "for lettre in ulysse:\n",
    "    if lettre in consonnes :\n",
    "        nb_consonnes = nb_consonnes + 1 \n",
    "\n",
    "# Imprimer les valeurs finales\n",
    "print(\"Nombre de voyelles :\", nb_voyelles)\n",
    "print(\"Nombre de consonnes :\", nb_consonnes)"
   ]
  },
  {
   "cell_type": "code",
   "execution_count": 137,
   "id": "da64b1aa-617e-48a4-8c24-0928a991dd79",
   "metadata": {},
   "outputs": [
    {
     "name": "stdout",
     "output_type": "stream",
     "text": [
      "Liste des voyelles : ['e', 'u', 'e', 'u', 'u', 'i', 'o', 'e', 'U', 'y', 'e', 'a', 'a', 'i', 'u', 'e', 'a', 'u', 'o', 'y', 'a', 'e']\n",
      "Liste des  consonnes : ['H', 'r', 'x', 'q', 'c', 'm', 'm', 'l', 's', 's', 'f', 't', 'n', 'b', 'v', 'g']\n"
     ]
    }
   ],
   "source": [
    "# Créer des listes de résultats\n",
    "\n",
    "# On pourrait vouloir savoir exactement quelles voyelles et quelles consonnes se trouvent dans une chaîne.\n",
    "\n",
    "# Pour y arriver, on peut utiliser des listes vides que l'on remplit au fil du code\n",
    "# On utilisera la fonction 'append' pour ajouter à ces listes les éléments pertinents\n",
    "\n",
    "# listes vides initiales\n",
    "voyelles_vers = []\n",
    "consonnes_vers = []\n",
    "\n",
    "# Pour chaque élément de la chaîne 'ulysse', vérifier si l'élément est dans la liste 'voyelles'\n",
    "# Si oui, l'ajouter à 'voyelles_vers'.\n",
    "for lettre in ulysse:\n",
    "    if lettre in voyelles :\n",
    "        voyelles_vers.append(lettre)\n",
    "\n",
    "# Pour chaque élément de la chaîne 'ulysse', vérifier si l'élément est dans la liste 'consonnes'\n",
    "# Si oui, l'ajouter à 'consonnes_vers'.\n",
    "for lettre in ulysse:\n",
    "    if lettre in consonnes :\n",
    "        consonnes_vers.append(lettre)\n",
    "\n",
    "# Imprimer les valeurs finales\n",
    "print(\"Liste des voyelles :\", voyelles_vers)\n",
    "print(\"Liste des  consonnes :\", consonnes_vers)"
   ]
  },
  {
   "cell_type": "code",
   "execution_count": 139,
   "id": "a453609c-a71c-4ad9-a30b-af8f4cf9a999",
   "metadata": {},
   "outputs": [
    {
     "name": "stdout",
     "output_type": "stream",
     "text": [
      "Liste des voyelles : ['e', 'u', 'i', 'o', 'U', 'y', 'a']\n",
      "Liste des  consonnes : ['H', 'r', 'x', 'q', 'c', 'm', 'l', 's', 'f', 't', 'n', 'b', 'v', 'g']\n"
     ]
    }
   ],
   "source": [
    "# Créer des listes de résultats (sans doublons)\n",
    "\n",
    "# Si on veut seulement savoir quelles lettres apparaissent au moins une fois,\n",
    "# on peut décider d'écarter les doublons.\n",
    "\n",
    "# Pour y arriver, il suffit d'ajouter une condition qui n'ajoute un élément à une liste\n",
    "# que si cet élément ne s'y trouve pas déjà\n",
    "\n",
    "# listes vides initiales\n",
    "voyelles_vers = []\n",
    "consonnes_vers = []\n",
    "\n",
    "# Pour chaque élément de la chaîne 'ulysse', vérifier si l'élément est dans la liste 'voyelles'\n",
    "# Si oui, vérifier que la voyelle n'est pas déjà dans 'voyelles_vers'.\n",
    "# Si elle n'y est pas, l'ajouter.\n",
    "for lettre in ulysse:\n",
    "    if lettre in voyelles :\n",
    "        if lettre not in voyelles_vers:\n",
    "            voyelles_vers.append(lettre)\n",
    "\n",
    "# Pour chaque élément de la chaîne 'ulysse', vérifier si l'élément est dans la liste 'consonnes'\n",
    "# Si oui, vérifier que la voyelle n'est pas déjà dans 'consonnes_vers'.\n",
    "# Si elle n'y est pas, l'ajouter.\n",
    "for lettre in ulysse:\n",
    "    if lettre in consonnes :\n",
    "        if lettre not in consonnes_vers:\n",
    "            consonnes_vers.append(lettre)\n",
    "\n",
    "# Imprimer les valeurs finales\n",
    "print(\"Liste des voyelles :\", voyelles_vers)\n",
    "print(\"Liste des  consonnes :\", consonnes_vers)\n",
    "\n"
   ]
  },
  {
   "cell_type": "code",
   "execution_count": 142,
   "id": "9534c1ad-a860-4c06-823b-e5efef2cb6a8",
   "metadata": {},
   "outputs": [
    {
     "name": "stdout",
     "output_type": "stream",
     "text": [
      "['U', 'a', 'e', 'i', 'o', 'u', 'y']\n",
      "['H', 'b', 'c', 'f', 'g', 'l', 'm', 'n', 'q', 'r', 's', 't', 'v', 'x']\n"
     ]
    }
   ],
   "source": [
    "# Ordonner une liste (ordre alphabétique, majuscule avant minuscules)\n",
    "\n",
    "# Créer une version ordonnée de la liste des voyelles\n",
    "voyelles_ord = sorted(voyelles_vers)\n",
    "print(voyelles_ord)\n",
    "\n",
    "# Créer une version ordonnée de la liste des consonnes\n",
    "consonnes_ord = sorted(consonnes_vers)\n",
    "print(consonnes_ord)"
   ]
  },
  {
   "cell_type": "code",
   "execution_count": 143,
   "id": "4ea0b31d-869c-405f-8118-f9c28083d839",
   "metadata": {},
   "outputs": [
    {
     "name": "stdout",
     "output_type": "stream",
     "text": [
      "Nombre d'occurrences : {'e': 7, 'u': 6, 'i': 3, 'o': 3, 'U': 2, 'y': 3, 'a': 5}\n"
     ]
    }
   ],
   "source": [
    "# Compter chaque voyelle individuellement\n",
    "\n",
    "# On pourrait vouloir compter le nombre d'occurrences de chaque voyelle.\n",
    "\n",
    "# Pour y arriver, on peut fonctionner avec un dictionnaire.\n",
    "# Chaque clé est une voyelle, chaque valeur est le nombre d'occurrences.\n",
    "\n",
    "\n",
    "# Dictionnaire vide\n",
    "nb_occ = {}\n",
    "\n",
    "# Pour chaque élément de la chaîne 'ulysse', vérifier si l'élément est dans la liste 'voyelles'\n",
    "for lettre in ulysse:\n",
    "    if lettre in voyelles :\n",
    "\n",
    "        # Si la lettre est une voyelle, voir si elle est déjà une clé dans 'nb_occ'\n",
    "        # Si ce n'est pas le cas, créer la clé et mettre la valeur 1\n",
    "        if lettre not in nb_occ:\n",
    "            nb_occ[lettre] = 1\n",
    "\n",
    "        # Si la lettre est déjà une clé dans 'nb_occ', ajouter 1 à la valeur actuelle\n",
    "        if lettre in nb_occ :\n",
    "            nb_occ[lettre] = nb_occ[lettre] + 1\n",
    "\n",
    "\n",
    "# Imprimer les valeurs finales\n",
    "print(\"Nombre d'occurrences :\", nb_occ)\n"
   ]
  },
  {
   "cell_type": "markdown",
   "id": "0e291ac3-645a-459b-975a-8bb90a0347f5",
   "metadata": {},
   "source": [
    "#### 2.3.1. Indexation et découpage\n",
    "\n",
    "Dans une séquence, chaque caractère a une position (index). On peut donc utiliser les mêmes méthodes que celles employées avec les listes pour trouver un caractère selon sa position dans une chaîne, ou encore cibler une plage de caractères.\n"
   ]
  },
  {
   "cell_type": "code",
   "execution_count": 144,
   "id": "f523a226-b66b-46ec-90bf-42c0003970d9",
   "metadata": {},
   "outputs": [
    {
     "name": "stdout",
     "output_type": "stream",
     "text": [
      "S\n",
      "A\n",
      "L\n",
      "E\n",
      "C\n",
      "U\n",
      "L\n"
     ]
    }
   ],
   "source": [
    "# Trouver un caractère avec son index\n",
    "\n",
    "# Extrait de l'Horace de Corneille (acte II, scène 3), organisé en liste:\n",
    "horace = [\"S'attacher au combat contre un autre soi-même,\",\n",
    "\"Attaquer un parti qui prend pour défenseur,\",\n",
    "\"Le frère d'une femme et l'amant d'une sœur,\",\n",
    "\"Et rompant tous ces nœuds, s'armer pour la patrie,\",\n",
    "\"Contre un sang qu'on voudrait racheter de sa vie,\",\n",
    "\"Une telle vertu n'appartenait qu'à nous ;\",\n",
    "\"L'éclat de son grand nom lui fait peu de jaloux,\"]\n",
    "\n",
    "# Pour chaque élément de 'horace', imprimer le premier caractère\n",
    "for vers in horace:\n",
    "    print(vers[0])"
   ]
  },
  {
   "cell_type": "code",
   "execution_count": 29,
   "id": "0f9eaf6d-5d4f-4684-a217-9d0a15715b8f",
   "metadata": {},
   "outputs": [
    {
     "name": "stdout",
     "output_type": "stream",
     "text": [
      "l pays\n",
      "maine,\n",
      "Thaïs,\n",
      "maine,\n",
      " maine\n",
      "estan,\n",
      "maine.\n",
      "antan?\n"
     ]
    }
   ],
   "source": [
    "# Trouver une plage de caractères\n",
    "\n",
    "# Premier huitain de la Ballade des dames du temps jadis (François Villon, 1461), organisé en liste\n",
    "jadis = [\"Dictes moy ou, n'en quel pays\",\n",
    "\"Est Flora, la belle Rommaine,\",\n",
    "\"Archipiades, ne Thaïs,\",\n",
    "\"Qui fut sa cousine germaine,\",\n",
    "\"Écho parlant quand bruyt on maine\",\n",
    "\"Dessus riviere ou sus estan,\",\n",
    "\"Qui beaulté ot trop plus qu'humaine.\",\n",
    "\"Mais ou sont les neiges d'antan?\"]\n",
    "\n",
    "\n",
    "# Pour chaque élément de 'jadis', imprimer les six derniers caractères\n",
    "for vers in jadis:\n",
    "    print(vers[-6:])"
   ]
  },
  {
   "cell_type": "code",
   "execution_count": 41,
   "id": "d1a8c080-87b3-4cf9-b7f9-3e45c09f7ba1",
   "metadata": {},
   "outputs": [
    {
     "name": "stdout",
     "output_type": "stream",
     "text": [
      "36\n",
      "13\n",
      "28\n",
      "38\n",
      "28\n",
      "30\n"
     ]
    }
   ],
   "source": [
    "#########\n",
    "## DÉFI #\n",
    "####### #\n",
    "\n",
    "# Imprimez la première moitié \n",
    "# de chaque vers du poème Le Pont Mirabeau,\n",
    "# de Guillaume Apollinaire (1912), organisé en liste\n",
    "\n",
    "# Vous aurez besoin de la fonction `int()`, \n",
    "# qui convertit un nombre réel (float) en nombre entier (int)\n",
    "\n",
    "mirabeau = [\"Sous le pont Mirabeau coule la Seine\",\n",
    "\"Et nos amours\",\n",
    "\"Faut-il qu'il m'en souvienne\",\n",
    "\"La joie venait toujours après la peine\",\n",
    "\"Vienne la nuit sonne l'heure\",\n",
    "\"Les jours s'en vont je demeure\"]\n",
    "\n",
    "\n",
    "for vers in mirabeau:\n",
    "    ..."
   ]
  },
  {
   "cell_type": "markdown",
   "id": "ed30e34d-1958-4e60-b104-dee50046f360",
   "metadata": {},
   "source": [
    "### 2.4. Manipulations de base des chaînes\n",
    "\n",
    "Python offre de nombreuses méthodes pour manipuler les chaînes ou obtenir des informations. Ces fonctions sont utilisées immédiatement après la chaîne (ou le nom de la variable qui y renvoie). \n",
    "\n",
    "\n"
   ]
  },
  {
   "cell_type": "markdown",
   "id": "1516fb75-1a0f-4d90-adfc-f8f9cdb6833a",
   "metadata": {},
   "source": [
    "#### 2.4.1. Transformations de base\n",
    "\n",
    "- `.upper()` : convertit toute la chaîne en majuscules\n",
    "- `.lower()` : convertit toute la chaîne en minuscule\n",
    "- `.capitalize()` : convertit le premier caractère en majuscule, le reste en minuscules\n",
    "- `.strip()` : retire les espaces au début et à la fin de la chaîne"
   ]
  },
  {
   "cell_type": "code",
   "execution_count": 145,
   "id": "684c5525-3289-4e14-9f3c-95eccf9343c7",
   "metadata": {},
   "outputs": [
    {
     "name": "stdout",
     "output_type": "stream",
     "text": [
      "VERSION ORIGINALE :\n",
      "C'est un trou de verdure où chante une Rivière\n",
      " Accrochant follement aux herbes des haillons\n",
      "d'argent ; où le soleil, de la montagne fière,  \n",
      "  luit : c'est un petit Val qui mousse de rayons. \n",
      "\n",
      "VERSION MINUSCULE :\n",
      "c'est un trou de verdure où chante une rivière\n",
      " accrochant follement aux herbes des haillons\n",
      "d'argent ; où le soleil, de la montagne fière,  \n",
      "  luit : c'est un petit val qui mousse de rayons. \n",
      "\n",
      "VERSION MAJUSCULE :\n",
      "C'EST UN TROU DE VERDURE OÙ CHANTE UNE RIVIÈRE\n",
      " ACCROCHANT FOLLEMENT AUX HERBES DES HAILLONS\n",
      "D'ARGENT ; OÙ LE SOLEIL, DE LA MONTAGNE FIÈRE,  \n",
      "  LUIT : C'EST UN PETIT VAL QUI MOUSSE DE RAYONS. \n",
      "\n",
      "VERSION NETTOYÉE :\n",
      "C'est un trou de verdure où chante une rivière\n",
      "Accrochant follement aux herbes des haillons\n",
      "D'argent ; où le soleil, de la montagne fière,\n",
      "Luit : c'est un petit val qui mousse de rayons.\n"
     ]
    }
   ],
   "source": [
    "# Mise en application des transformations \n",
    "\n",
    "# Extrait du Dormeur du Val (Rimbaud, 1870)\n",
    "dormeur = [\"C'est un trou de verdure où chante une Rivière\" ,\n",
    "\" Accrochant follement aux herbes des haillons\",\n",
    "\"d'argent ; où le soleil, de la montagne fière,  \",\n",
    "\"  luit : c'est un petit Val qui mousse de rayons. \"]\n",
    "\n",
    "\n",
    "# Imprimer la strophe telle quelle\n",
    "print(\"VERSION ORIGINALE :\")\n",
    "for vers in dormeur:\n",
    "    print(vers)\n",
    "\n",
    "    \n",
    "# Convertir les vers de 'dormeur' tout en minuscules\n",
    "print(\"\\nVERSION MINUSCULE :\")\n",
    "for vers in dormeur:\n",
    "    minus = vers.lower()\n",
    "    print(minus)\n",
    "\n",
    "# Convertir les vers de 'dormeur' tout en majuscules\n",
    "print(\"\\nVERSION MAJUSCULE :\")\n",
    "for vers in dormeur:\n",
    "    majus = vers.upper()\n",
    "    print(majus)\n",
    "\n",
    "\n",
    "# Retirer les espaces au début et à la fin des vers, puis mettre majuscule initiale\n",
    "print(\"\\nVERSION NETTOYÉE :\")\n",
    "for vers in dormeur:\n",
    "    nettoyage = vers.strip()\n",
    "    ajustement_maj = nettoyage.capitalize()\n",
    "    print(ajustement_maj)\n"
   ]
  },
  {
   "cell_type": "markdown",
   "id": "5945cf14-8c19-4537-917e-dbd7cfb937ae",
   "metadata": {},
   "source": [
    "#### 2.4.2. Informations sur les chaînes\n",
    "\n",
    "- `.startswith()` : vérifie si la chaîne commence par un élément donné\n",
    "- `.endswith()` : vérifie si la chaîne se termine par un élément donné\n",
    "- `.isalpha()` : vérifie si la chaîne n'est constituée que de lettres\n",
    "- `.isdigit()` : vérifie si la chaîne n'est constituée que de chiffres\n",
    "- `.isalnum()` : vérifie si la chaîne n'est constituée que de lettres et de chiffres"
   ]
  },
  {
   "cell_type": "code",
   "execution_count": 91,
   "id": "73bec541-e551-4bf8-ba3a-8e5369c91181",
   "metadata": {},
   "outputs": [
    {
     "name": "stdout",
     "output_type": "stream",
     "text": [
      "Texte :  C'est un trou de verdure où chante une rivière\n",
      "\n",
      "Tests de contenu :\n",
      "- Commence par 'C'est' : True\n",
      "- Se termine par 'rayons' : False\n",
      "- Contient 'verdure' : True\n",
      "- Contient 'forêt' : False\n"
     ]
    }
   ],
   "source": [
    "# Contenu des chaînes\n",
    "dormeur1 = \"C'est un trou de verdure où chante une rivière\"\n",
    "print(\"Texte : \", dormeur1)\n",
    "\n",
    "\n",
    "# Tests de contenu (vérifier éléments au début et fin du vers; vérifier si éléments se trouvent dans le vers)\n",
    "print(\"\\nTests de contenu :\")\n",
    "print(\"- Commence par 'C'est' :\", dormeur1.startswith(\"C'est\"))\n",
    "print(\"- Se termine par 'rayons' :\", dormeur1.endswith('rayons'))\n",
    "print(\"- Contient 'verdure' :\", 'verdure' in dormeur1)\n",
    "print(\"- Contient 'forêt' :\", 'forêt' in dormeur1)\n",
    "\n"
   ]
  },
  {
   "cell_type": "code",
   "execution_count": 94,
   "id": "dc2eb8ae-af90-4e73-a2d3-eac062ab1433",
   "metadata": {},
   "outputs": [
    {
     "name": "stdout",
     "output_type": "stream",
     "text": [
      "Vérification des noms d'usagers :\n",
      "Nom : Molière1643\n",
      "- Que des lettres : False\n",
      "- Que des chiffres : False\n",
      "- Que des lettres et chiffres : True\n",
      "Nom : RIMBAUD\n",
      "- Que des lettres : True\n",
      "- Que des chiffres : False\n",
      "- Que des lettres et chiffres : True\n",
      "Nom : 12345\n",
      "- Que des lettres : False\n",
      "- Que des chiffres : True\n",
      "- Que des lettres et chiffres : True\n",
      "Nom : André!\n",
      "- Que des lettres : False\n",
      "- Que des chiffres : False\n",
      "- Que des lettres et chiffres : False\n"
     ]
    }
   ],
   "source": [
    "# Vérification du type de caractères\n",
    "usagers = [\"Molière1643\", \"RIMBAUD\", \"12345\", \"André!\"]\n",
    "\n",
    "# Vérifie si les noms d'usagers d'un forum respectent certains critères\n",
    "print(\"Vérification des noms d'usagers :\")\n",
    "for usager in usagers:\n",
    "    print(\"Nom :\", usager)\n",
    "    print(\"- Que des lettres :\", usager.isalpha())\n",
    "    print(\"- Que des chiffres :\", usager.isdigit())\n",
    "    print(\"- Que des lettres et chiffres :\", usager.isalnum())"
   ]
  },
  {
   "cell_type": "code",
   "execution_count": 98,
   "id": "e8a93082-2402-427c-8ef3-8788641b5a0b",
   "metadata": {},
   "outputs": [
    {
     "name": "stdout",
     "output_type": "stream",
     "text": [
      "Titres originaux :\n",
      "-   cent ans de solitude  \n",
      "- 1984 \n",
      "-  FRANKENSTEIN\n",
      "- gERMINAL\n",
      "-   À La Recherche Du Temps Perdu  \n",
      "- Les androïdes rêvent-ils de moutons électriques? \n",
      "-  Catch-22\n",
      "\n",
      "Titres corrigés :\n"
     ]
    }
   ],
   "source": [
    "# EXERCICE : Nettoyage de titres\n",
    "\n",
    "# Vous recevez une liste de titres d'oeuvres avec des problèmes de format\n",
    "\n",
    "# Votre objectif : nettoyer et uniformiser ces titres\n",
    "\n",
    "\n",
    "\n",
    "titres = [\n",
    "    \"  cent ans de solitude  \",\n",
    "    \"1984 \",\n",
    "    \" FRANKENSTEIN\",\n",
    "    \"gERMINAL\",\n",
    "    \"  À La Recherche Du Temps Perdu  \",\n",
    "    \"Les androïdes rêvent-ils de moutons électriques? \", \n",
    "    \" Catch-22\"]\n",
    "\n",
    "print(\"Titres originaux :\")\n",
    "for titre in titres:\n",
    "    print(\"-\", titre)\n",
    "\n",
    "\n",
    "print(\"\\nTitres corrigés :\")\n",
    "\n",
    "# 1. Supprimer les espaces au début et à la fin\n",
    "\n",
    "\n",
    "\n",
    "\n",
    "\n",
    "\n",
    "# 2. S'assurer que le premier caractère est une majuscule et les suivants des minuscules\n",
    "\n",
    "\n",
    "\n",
    "\n",
    "\n",
    "\n",
    "\n",
    "#"
   ]
  },
  {
   "cell_type": "markdown",
   "id": "3d01f2a9-297d-42fe-8267-32f55341bd5c",
   "metadata": {},
   "source": [
    "### 2.5. Diviser et joindre des chaînes\n",
    "\n",
    "Deux fonctions très utiles permettent de créer plusieurs chaînes à partir d'une seule, ou vice versa.\n",
    "\n",
    "**`.split()` : diviser une chaîne**\n",
    "- Découpe la chaîne selon un séparateur donné (par défaut : espace)\n",
    "- Retourne une liste de sous-chaînes\n",
    "- Très utile pour séparer les mots d'une phrase, par exemple\n",
    "- Format : chaîne_à_découper.split(séparateur) \n",
    "\n",
    "**`.join()` : assembler des éléments**\n",
    "- Combine une liste d'éléments en une seule chaîne suivie\n",
    "- Le séparateur est spécifié avant `.join()`\n",
    "- Inverse de `.split()`\n",
    "- Format : séparateur.join(liste_d_éléments_à_joindre)\n",
    "\n"
   ]
  },
  {
   "cell_type": "code",
   "execution_count": 103,
   "id": "a13fe92d-1320-471c-bf2b-db54efe6d6bf",
   "metadata": {},
   "outputs": [
    {
     "name": "stdout",
     "output_type": "stream",
     "text": [
      "['Sous', 'le', 'pont', 'Mirabeau', 'coule', 'la', 'Seine']\n"
     ]
    }
   ],
   "source": [
    "# La fonction split est utile, elle permet de convertir un texte en une liste de mots\n",
    "\n",
    "seine = \"Sous le pont Mirabeau coule la Seine\"\n",
    "\n",
    "# convertir en liste, avec espace comme séparateur\n",
    "seine_liste = seine.split()\n",
    "print(seine_liste)\n"
   ]
  },
  {
   "cell_type": "code",
   "execution_count": 104,
   "id": "7d376093-b969-4429-9cd0-3bde2c01ae94",
   "metadata": {},
   "outputs": [
    {
     "name": "stdout",
     "output_type": "stream",
     "text": [
      "Nombre de mots : 7\n"
     ]
    }
   ],
   "source": [
    "# Cette liste peut ensuite faire l'objet des manipulations que nous avons déjà vues\n",
    "\n",
    "nb_mots = len(seine_liste)\n",
    "print(\"Nombre de mots :\", nb_mots)"
   ]
  },
  {
   "cell_type": "code",
   "execution_count": 150,
   "id": "83f5e44f-f64d-4969-877a-a53ada4c33de",
   "metadata": {},
   "outputs": [
    {
     "name": "stdout",
     "output_type": "stream",
     "text": [
      "Original : Sous_le_pont_Mirabeau_coule_la_Seine\n",
      "\n",
      "Liste :  ['Sous', 'le', 'pont', 'Mirabeau', 'coule', 'la', 'Seine']\n",
      "\n",
      "Final : Sous le pont Mirabeau coule la Seine\n"
     ]
    }
   ],
   "source": [
    "# Les fonctions split et join peuvent être combinées pour reformater des chaînes\n",
    "\n",
    "# version problématique du titre (barre de soulignement plutôt qu'espaces)\n",
    "seine = \"Sous_le_pont_Mirabeau_coule_la_Seine\"\n",
    "print(\"Original :\", seine)\n",
    "\n",
    "# convertir en liste\n",
    "seine_liste = seine.split(\"_\")\n",
    "print(\"\\nListe : \", seine_liste)\n",
    "\n",
    "# convertir en chaîne, avec espace comme séparateur\n",
    "seine_final = \" \".join(seine_liste)\n",
    "print(\"\\nFinal :\", seine_final)\n"
   ]
  },
  {
   "cell_type": "code",
   "execution_count": 112,
   "id": "83c23c0c-b46e-4184-a4de-d686eb0394d0",
   "metadata": {},
   "outputs": [
    {
     "ename": "SyntaxError",
     "evalue": "invalid syntax (2513962905.py, line 15)",
     "output_type": "error",
     "traceback": [
      "\u001b[1;36m  Cell \u001b[1;32mIn[112], line 15\u001b[1;36m\u001b[0m\n\u001b[1;33m    vers = # Votre code ici\u001b[0m\n\u001b[1;37m           ^\u001b[0m\n\u001b[1;31mSyntaxError\u001b[0m\u001b[1;31m:\u001b[0m invalid syntax\n"
     ]
    }
   ],
   "source": [
    "# EXERCICE : Analyse d'un sonnet de Baudelaire\n",
    "\n",
    "# Extrait des Fleurs du mal de Baudelaire\n",
    "spleen = \"\"\"Quand le ciel bas et lourd pèse comme un couvercle\n",
    "Sur l'esprit gémissant en proie aux longs ennuis,\n",
    "Et que de l'horizon embrassant tout le cercle\n",
    "Il nous verse un jour noir plus triste que les nuits\"\"\"\n",
    "\n",
    "print(\"Strophe de Baudelaire :\")\n",
    "print(strophe)\n",
    "print(\"=\" * 50)\n",
    "\n",
    "# Votre analyse :\n",
    "\n",
    "# 1. Séparer les vers (lignes), compter combien il y en a, et imprimer chacun \n",
    "# (indice, rappelez-vous que le saut de ligne correspond au caractère spécial \"\\n\")\n",
    "\n",
    "\n",
    "# 2. Compter le nombre de mots de chaque vers\n",
    "\n",
    "\n",
    "# 3. Trouver le mot le plus long de la strophe\n",
    "\n",
    "\n",
    "# 4. Recomposer la strophe avec \" | \" entre chaque vers\n"
   ]
  },
  {
   "cell_type": "markdown",
   "id": "33572f07-4cb6-40be-8a2c-f10452b7aa6a",
   "metadata": {},
   "source": [
    "### 2.6. Trouver, compter, remplacer\n",
    "\n",
    "Certaines fonctions permettent de trouver des éléments au sein d'une chaîne et d'en spécifier la position, d'en calculer le nombre d'occurrences ou de les remplacer.\n",
    "\n",
    "**Trouver :**\n",
    "- `.find()`\n",
    "- Indique l'emplacement (index) dans la chaîne où l'élément trouvé commence\n",
    "- Format : chaîne.find(élément_recherché)\n",
    "\n",
    "**Compter :**\n",
    "- `.count()`\n",
    "- Renvoie le nombre d'occurrence d'un élément donné dans la chaîne\n",
    "- Format : chaîne.find(élément_compté)\n",
    "\n",
    "**Remplacer :**\n",
    "`.replace(x, y)`\n",
    "- Remplace toutes les occurrences d'un élément dans une chaîne\n"
   ]
  },
  {
   "cell_type": "code",
   "execution_count": 115,
   "id": "415ec6f6-c857-4fda-9a37-86cd82464140",
   "metadata": {},
   "outputs": [
    {
     "name": "stdout",
     "output_type": "stream",
     "text": [
      "L'élément recherché commence à la position : 19\n"
     ]
    }
   ],
   "source": [
    "# À partir de la chaîne suivante\n",
    "ulysse = \"Heureux qui, comme Ulysse, a fait un beau voyage\"\n",
    "\n",
    "# Trouver emplacement d'un élément\n",
    "emplacement = ulysse.find(\"Ulysse\")\n",
    "print(\"L'élément recherché commence à la position :\", emplacement)\n",
    "\n",
    "\n",
    "\n",
    "\n",
    "\n",
    "\n",
    "\n",
    "\n",
    "\n",
    "\n",
    "\n",
    "#"
   ]
  },
  {
   "cell_type": "code",
   "execution_count": 151,
   "id": "97743c4d-4d6c-4f69-ae80-b341e600b0bc",
   "metadata": {},
   "outputs": [
    {
     "name": "stdout",
     "output_type": "stream",
     "text": [
      "Nombre d'occurrences de l'élément recherché : 6\n"
     ]
    }
   ],
   "source": [
    "# Trouver le nombre d'occurrences d'un élément\n",
    "nb_occ = ulysse.count(\"e\")\n",
    "print(\"Nombre d'occurrences de l'élément recherché :\", nb_occ)\n",
    "\n",
    "\n",
    "\n",
    "\n",
    "\n",
    "\n",
    "\n",
    "\n",
    "\n",
    "\n",
    "\n",
    "#"
   ]
  },
  {
   "cell_type": "code",
   "execution_count": 120,
   "id": "4620ac05-e7e5-4e4f-8d23-665b9c27b7aa",
   "metadata": {},
   "outputs": [
    {
     "name": "stdout",
     "output_type": "stream",
     "text": [
      "Texte original:  Heureux qui, comme Ulysse, a fait un beau voyage\n",
      "Texte modifié : Heureux qui, comme Françoise, a fait un beau voyage\n"
     ]
    }
   ],
   "source": [
    "# Remplacer un élément par un autre\n",
    "print(\"Texte original: \", ulysse)\n",
    "\n",
    "\n",
    "ulysse_modif = ulysse.replace(\"Ulysse\", \"Jean-Claude\")\n",
    "print(\"Texte modifié :\", ulysse_modif)\n",
    "\n",
    "\n",
    "\n",
    "\n",
    "\n",
    "\n",
    "\n",
    "\n",
    "#"
   ]
  },
  {
   "cell_type": "code",
   "execution_count": 122,
   "id": "8cd0174c-5f57-4bef-8654-ba595604d010",
   "metadata": {},
   "outputs": [
    {
     "name": "stdout",
     "output_type": "stream",
     "text": [
      "Texte original:  Heureux qui, comme Ulysse, a fait un beau voyage\n",
      "Texte modifié : Heureux qui, comme ce bébé, a fait un beau dodo\n"
     ]
    }
   ],
   "source": [
    "# Plusieurs remplacements (on peut enchaîner les 'replace')\n",
    " \n",
    "ulysse_modif = ulysse.replace(\"Ulysse\", \"ce bébé\").replace(\"voyage\", \"dodo\")\n",
    "print(\"Texte modifié :\", ulysse_modif)\n",
    "\n",
    "\n",
    "\n",
    "\n",
    "\n",
    "\n",
    "#"
   ]
  },
  {
   "cell_type": "markdown",
   "id": "53358533-92c3-46f9-9bc6-016d0b081467",
   "metadata": {},
   "source": [
    "### 2.7. Une autre façon de combiner chaînes et variables : les chaînes-f\n",
    "\n",
    "Les chaînes-f (f-strings; Python 3.6+) permettent d'insérer des variables directement dans les chaînes de caractères. Cela permet d'éviter des assemblages complexes avec virgules et parenthèses.\n",
    "\n",
    "**Syntaxe :** \n",
    "- On ajoute un 'f' devant la chaîne et on place les variables entre accolades à l'intérieur\n",
    "- Format : `f\"Voici du texte qui comprend une {variable}\"`\n",
    "\n"
   ]
  },
  {
   "cell_type": "code",
   "execution_count": 132,
   "id": "1967079e-e9d3-4d39-8203-2707abad0899",
   "metadata": {},
   "outputs": [
    {
     "name": "stdout",
     "output_type": "stream",
     "text": [
      "'À la recherche du temps perdu' par Marcel Proust (1913) - 4211 pages.\n",
      "\n",
      "Ce livre a aujourd'hui 112 ans, mais n'a rien perdu de sa pertinence.\n"
     ]
    }
   ],
   "source": [
    "# Exemple\n",
    "\n",
    "# Variables\n",
    "auteur = \"Marcel Proust\"\n",
    "titre = \"À la recherche du temps perdu\" \n",
    "annee = 1913\n",
    "pages = 4211\n",
    "\n",
    "# Formatage simple\n",
    "fiche = f\"'{titre}' par {auteur} ({annee}) - {pages} pages.\\n\"\n",
    "print(fiche)\n",
    "\n",
    "# Expressions dans les f-strings\n",
    "commentaire = f\"Ce livre a aujourd'hui {2025 - annee} ans, mais n'a rien perdu de sa pertinence.\"\n",
    "print(commentaire)\n",
    "\n"
   ]
  },
  {
   "cell_type": "markdown",
   "id": "117a263e-0ea3-420c-a0d8-109612df088a",
   "metadata": {},
   "source": [
    "### 2.8 Exercices"
   ]
  },
  {
   "cell_type": "code",
   "execution_count": 154,
   "id": "3e92219a-1455-4880-b38e-b4e8b6049641",
   "metadata": {},
   "outputs": [
    {
     "data": {
      "text/plain": [
       "'sti'"
      ]
     },
     "execution_count": 154,
     "metadata": {},
     "output_type": "execute_result"
    }
   ],
   "source": [
    "#Format de citations\n",
    "\n",
    "citations = [\n",
    "    \"« L'esprit cherche et c'est le coeur qui trouve »  - sand\",\n",
    "    \"« Je pense, donc je suis - DESCARTES\",\n",
    "    \"  \"tous pour un, un pour tous\" - dumas \",\n",
    "    \"« Tout est pour le mieux dans le meilleur des mondes possibles » - Voltaire\"\n",
    "]\n",
    "\n",
    "# Critères de validation :\n",
    "# 1. La citation commence et finit par des guillemets français\n",
    "# 2. Contient un tiret pour séparer citation et auteur\n",
    "# 3. La citation et le nom de l'auteur sont en format Titre (première majuscule, reste minuscule)\n",
    "# 4. Pas d'espaces en début/fin, que ce soit pour la citation ou le nom de l'auteur\n",
    "\n",
    "# Votre code doit corriger automatiquement les citations invalides\n",
    "\n",
    "# Rappel : vous pouvez utiliser le symbole + pour combiner deux chaînes\n",
    "# resultat = \"sal\" + \"ut!\" (resultat correspond alors à \"salut!\")\n"
   ]
  },
  {
   "cell_type": "code",
   "execution_count": null,
   "id": "35f0a5b4-f09e-455d-8f85-f9774b91a8bc",
   "metadata": {},
   "outputs": [],
   "source": [
    "# Reformatez ces références bibliographiques mal structurées\n",
    "\n",
    "references = [\n",
    "    \"Hugo, Victor|Les Misérables|1862|Roman\",\n",
    "    \"Proust, Marcel|À la recherche du temps perdu|1913|Roman\", \n",
    "    \"Baudelaire, Charles|Les Fleurs du mal|1857|Poésie\",\n",
    "    \"Corneille, Pierre|Horace|1640|Théâtre\"\n",
    "]\n",
    "\n",
    "# Format cible : \"Titre (Année) par Prénom Nom - Genre\"\n",
    "# Exemple : \"Les Misérables (1862) par Victor Hugo - Roman\"\n",
    "\n",
    "# Défis :\n",
    "# 1. Gérez l'inversion Nom, Prénom\n",
    "# 2. Créez le format cible\n",
    "# 3. Triez par année de publication"
   ]
  }
 ],
 "metadata": {
  "kernelspec": {
   "display_name": "Python 3 (ipykernel)",
   "language": "python",
   "name": "python3"
  },
  "language_info": {
   "codemirror_mode": {
    "name": "ipython",
    "version": 3
   },
   "file_extension": ".py",
   "mimetype": "text/x-python",
   "name": "python",
   "nbconvert_exporter": "python",
   "pygments_lexer": "ipython3",
   "version": "3.13.5"
  }
 },
 "nbformat": 4,
 "nbformat_minor": 5
}
