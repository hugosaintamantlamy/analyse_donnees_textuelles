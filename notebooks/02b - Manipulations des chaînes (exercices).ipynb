{
 "cells": [
  {
   "cell_type": "markdown",
   "id": "50c843ba-e623-41ba-83ea-455192cfa5aa",
   "metadata": {},
   "source": [
    "# Exercice 1 : formatage\n",
    "\n",
    "Extrait de *Chanson d'automne* de Paul Verlaine (1866).\n",
    "\n",
    "**Tâches :**\n",
    "- Reconstituer les sauts de lignes (remplacés par symbole \"|\" ici)\n",
    "- Supprimer les espaces en début/fin de vers et uniformiser la casse (majuscule seulement en début de vers, minuscules ailleurs)\n",
    "- Compter le nombre total de caractères avant et après nettoyage\n",
    "- Calculer le nombre de voyelles et de consonnes présentes (utiliser les listes vues en classe)"
   ]
  },
  {
   "cell_type": "code",
   "execution_count": null,
   "id": "de339277-d2c8-482e-a717-a8639ed8dac5",
   "metadata": {},
   "outputs": [],
   "source": [
    "automne = \"  Les SANGLOTS longs| Des violons  |De l’AUTOMNE |    Blessent mon COEUR| D’une langueur|Monotone. \"\n",
    "\n",
    "# votre code\n",
    "\n",
    "\n",
    "\n",
    "\n",
    "\n",
    "\n",
    "\n",
    "\n",
    "\n",
    "\n",
    "\n",
    "\n",
    "\n",
    "\n",
    "\n",
    "\n",
    "\n",
    "\n",
    "\n",
    "#"
   ]
  },
  {
   "cell_type": "markdown",
   "id": "f8788262-c59f-48a7-be99-c68a4f4b223d",
   "metadata": {},
   "source": [
    "# Exercice 2 : \n",
    "\n",
    "Extrait de *L'Albatros* de Charles Baudelaire (1861).\n",
    "\n",
    "\n",
    "**Tâches :**\n",
    "- Pour chaque vers, compter le nombre de mots et la longueur moyenne des mots\n",
    "- Extraire le dernier mot de chaque vers (pour analyser les rimes)\n",
    "- Calculez le nombre total de mot se terminant par la lettre 's'"
   ]
  },
  {
   "cell_type": "code",
   "execution_count": null,
   "id": "292377f2-44cf-4380-8cf0-e7cd7bd73ea4",
   "metadata": {},
   "outputs": [],
   "source": [
    "albatros = \"\"\"Souvent, pour s'amuser, les hommes d'équipage\n",
    "Prennent des albatros, ces vastes oiseaux des mers\n",
    "Qui suivent, indolents compagnons de voyage\n",
    "Le navire glissant sur les gouffres amers\"\"\"\n",
    "\n",
    "\n",
    "# votre code\n",
    "\n",
    "\n",
    "\n",
    "\n",
    "\n",
    "\n",
    "\n",
    "\n",
    "\n",
    "\n",
    "\n",
    "\n",
    "\n",
    "\n",
    "\n",
    "\n",
    "\n",
    "\n",
    "\n",
    "#"
   ]
  },
  {
   "cell_type": "markdown",
   "id": "eab8ba5b-46e1-4002-ac0b-4d21e78f7982",
   "metadata": {},
   "source": [
    "# Exercice 3 :\n",
    "\n",
    "Premier paragraphe de *Le Ventre de Paris* d'Émile Zola (1873).\n",
    "\n",
    "**A) Longueur des phrases :** À l'aide d'une chaîne-f, produire un petit rapport qui précise :\n",
    "- Le nombre de mots dans la phrase la plus longue\n",
    "- Le nombre de mots dans la phrase la plus courte\n",
    "- La longueur moyenne des phrases\n",
    "\n",
    "**B) Mots fréquents :** Sous forme d'une énumération de mots séparés par le symbole ¤, donner tous les mots apparaissant plus d'une fois dans le texte (p. ex. `poule ¤ oeuf ¤ couver`).\n",
    "\n",
    "**C) Schéma orthographique :** Identifier tous les mots commençant par une voyelle et se terminant par une consonne. Créer une liste Python de ces mots, sans doublons.\n",
    "\n",
    "**D) Noms propres potentiels :** Sous forme d'une énumération de mots séparés par le symbole *, donner tous les mots commençant par une majuscule mais n'étant pas en début de phrases (p. ex. `Pauline * Londres * Jacques`).\n",
    "\n",
    "**Conseils :**\n",
    "- Penser à se  débarrasser des sauts de lignes, qui ne sont là que pour aider l'affichage.\n",
    "- Utiliser les points comme séparateurs de phrases\n"
   ]
  },
  {
   "cell_type": "code",
   "execution_count": 10,
   "id": "128b6813-8094-49d6-b958-8039a9523c82",
   "metadata": {},
   "outputs": [],
   "source": [
    "ventre = '''Au milieu du grand silence, et dans le désert de l’avenue, les voitures de maraîchers montaient vers Paris, \n",
    "    avec les cahots rythmés de leurs roues, dont les échos battaient les façades des maisons, endormies aux deux bords, \n",
    "    derrière les lignes confuses des ormes. Un tombereau de choux et un tombereau de pois, au pont de Neuilly, \n",
    "    s’étaient joints aux huit voitures de navets et de carottes qui descendaient de Nanterre ; et les chevaux allaient tout seuls, \n",
    "    la tête basse, de leur allure continue et paresseuse, que la montée ralentissait encore. En haut, sur la charge des légumes, \n",
    "    allongés à plat ventre, couverts de leur limousine à petites raies noires et grises, les charretiers sommeillaient, \n",
    "    les guides aux poignets. Un bec de gaz, au sortir d’une nappe d’ombre, éclairait les clous d’un soulier, la manche bleue d’une blouse, \n",
    "    le bout d’une casquette, entrevus dans cette floraison énorme des bouquets rouges des carottes, des bouquets blancs des navets, \n",
    "    des verdures débordantes des pois et des choux. Et, sur la route, sur les routes voisines, en avant et en arrière, \n",
    "    des ronflements lointains de charrois annonçaient des convois pareils, tout un arrivage traversant les ténèbres et le gros sommeil de deux heures du matin, \n",
    "    berçant la ville noire du bruit de cette nourriture qui passait.'''\n",
    "\n",
    "# votre code\n",
    "\n",
    "\n",
    "\n",
    "\n",
    "\n",
    "\n",
    "\n",
    "\n",
    "\n",
    "\n",
    "\n",
    "\n",
    "\n",
    "\n",
    "\n",
    "\n",
    "\n",
    "\n",
    "\n",
    "#"
   ]
  },
  {
   "cell_type": "code",
   "execution_count": null,
   "id": "a3b8e385-8048-435e-accf-f8c227f63537",
   "metadata": {},
   "outputs": [],
   "source": []
  },
  {
   "cell_type": "code",
   "execution_count": null,
   "id": "9c2b7e92-2a63-4685-9818-a443f319fca3",
   "metadata": {},
   "outputs": [],
   "source": []
  }
 ],
 "metadata": {
  "kernelspec": {
   "display_name": "Python 3 (ipykernel)",
   "language": "python",
   "name": "python3"
  },
  "language_info": {
   "codemirror_mode": {
    "name": "ipython",
    "version": 3
   },
   "file_extension": ".py",
   "mimetype": "text/x-python",
   "name": "python",
   "nbconvert_exporter": "python",
   "pygments_lexer": "ipython3",
   "version": "3.13.5"
  }
 },
 "nbformat": 4,
 "nbformat_minor": 5
}
