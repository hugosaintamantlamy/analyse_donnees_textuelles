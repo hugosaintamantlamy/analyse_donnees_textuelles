{
 "cells": [
  {
   "cell_type": "markdown",
   "metadata": {},
   "source": [
    "# Exercices Python - Notions fondamentales\n",
    "\n",
    "Ce notebook contient une série d'exercices pour pratiquer les notions fondamentales de Python vue lors du premier cours.\n",
    "\n",
    "**Instructions :** Complétez chaque exercice en écrivant votre code dans les cellules prévues à cet effet. N'hésitez pas à tester votre code et à modifier vos réponses au besoin.\n",
    "\n",
    "---"
   ]
  },
  {
   "cell_type": "markdown",
   "metadata": {},
   "source": [
    "## Exercice 1 : Variables et types de données\n",
    "\n",
    "Créez des variables pour représenter les informations suivantes à propos du roman *Le Survenant* de Germaine Guèvremont (édition Bibliothèque québécoise) :\n",
    "- Le titre du roman\n",
    "- L'auteure\n",
    "- L'année de publication (1945)\n",
    "- Le nombre de pages (224)\n",
    "- La maison d'édition\n",
    "- Le format (Livre de poche)\n",
    "- Le prix suggéré, en dollars (9,95)\n",
    "- Si le livre est encore disponible (True)\n",
    "\n",
    "Affichez ensuite chaque variable avec la fonction `print()` et vérifiez le type de chacune avec `type()`. \n"
   ]
  },
  {
   "cell_type": "code",
   "execution_count": null,
   "metadata": {},
   "outputs": [],
   "source": [
    "# Votre code ici\n"
   ]
  },
  {
   "cell_type": "markdown",
   "metadata": {},
   "source": [
    "## Exercice 2 : Impression complexe\n",
    "\n",
    "Utilisez les variables de l'exercice précédent pour créer et afficher un court paragraphe qui présente le livre. Le résultat devrait ressembler à :\n",
    "\n",
    "« Le roman Le Survenant de Germaine Guèvremont , publié pour la première fois en 1945 , a récemment été réédité aux éditions Bibliothèque québécoise . Cette nouvelle édition compte 224 pages et se détaille au prix suggéré de 9,95 $. »\n",
    "\n",
    "À noter que vous n'avez pas besoin de copier-coller les variables de la cellule de code de l'exercice 1. Celles-ci sont gardées en mémoire pour la suite. \n",
    "\n",
    "**Bonus :** Calculez et affichez également le nombre de caractères dans le titre du roman."
   ]
  },
  {
   "cell_type": "code",
   "execution_count": null,
   "metadata": {},
   "outputs": [],
   "source": [
    "# Votre code ici\n"
   ]
  },
  {
   "cell_type": "markdown",
   "metadata": {},
   "source": [
    "## Exercice 3 : Listes et indexation\n",
    "\n",
    "La liste suivante comprend, dans l'ordre chronologique, les pièces de Michel Marc Bouchard. \n",
    "\n",
    "> \"Angélus\", \"Dans les bras de Morphée Tanguay\", \"Les Porteurs d’eau\", \"Rock pour un faux bourdon\", \"La Contre-nature de Chrysippe Tanguay, écologiste\", \"La Poupée de Pélopia\", \"La Visite ou Surtout, sentez-vous pas obligés de venir!\", \"Les Feluettes ou La répétition d'un drame romantique\", \"Les Muses orphelines\", \"L'Histoire de l’oie\", \"Les Grandes Chaleurs\", \"Les Papillons de nuit (Night Butterflies)\", \"Le Voyage du couronnement\", \"Le Désir\", \"Pierre et Marie... et le démon\", \"Le Chemin des Passes-dangereuses\", \"Sous le regard des mouches\", \"Les Manuscrits du déluge\", \"Le Peintre des madones\", \"Des yeux de verre\", \"Tom à la ferme\", \"Christine, la reine-garçon\", \"La Divine Illusion\", \"La Nuit où Laurier Gaudreault s'est réveillé\", \"Embrasse\", \"Une fête d’enfants\"\n",
    "\n",
    "À l'aide des mécanismes d'indexation que nous avons vus : \n",
    "1. Affichez les titres de la première et de la dernière pièce\n",
    "2. Affichez les titres des huit premières pièces\n",
    "3. Affichez les titres des cinq dernières les plus récentes\n",
    "4. Affichez le nombre total de pièces comprises dans la liste"
   ]
  },
  {
   "cell_type": "code",
   "execution_count": null,
   "metadata": {},
   "outputs": [],
   "source": [
    "# Votre code ici\n"
   ]
  },
  {
   "cell_type": "markdown",
   "metadata": {},
   "source": [
    "## Exercice 4 : Dictionnaires\n",
    "\n",
    "Créez un dictionnaire pour représenter les informations sur *Le ciel de Québec*, de Jacques Ferron :\n",
    "- titre : \"Le ciel de Québec\"\n",
    "- auteur : \"Jacques Ferron\"\n",
    "- annee : 1969\n",
    "- maison d'édition : \"Éditions du Jour\"\n",
    "- genre : \"Roman satirique\"\n",
    "- mots-clés : satire, mémoire, nationalisme québécois, identité, histoire, langue (présenter sous forme de liste)\n",
    "\n",
    "**À faire : **\n",
    "1. Afficher outes les clés du dictionnaire (pas les valeurs)\n",
    "2. Afficher le titre et l'auteur seulement\n",
    "3. Ajouter une nouvelle entrée **pages** avec la valeur 544\n",
    "4. Afficher le dictionnaire complet"
   ]
  },
  {
   "cell_type": "code",
   "execution_count": null,
   "metadata": {},
   "outputs": [],
   "source": [
    "# Votre code ici\n"
   ]
  },
  {
   "cell_type": "markdown",
   "metadata": {},
   "source": [
    "## Exercice 5 : Opérateurs de comparaison\n",
    "\n",
    "Vous disposez des informations suivantes sur trois romans :\n",
    "- **Bonheur d'occasion** (Gabrielle Roy) : 1945, 470 pages\n",
    "- **Les Plouffe** (Roger Lemelin) : 1948, 405 pages  \n",
    "- **Poussière sur la ville** (André Langevin) : 1953, 213 pages\n",
    "\n",
    "Créez les variables nécessaires, puis utilisez les opérateurs de comparaison pour vérifier et afficher :\n",
    "1. Quel roman a été publié en premier\n",
    "2. Quel roman est le plus long\n",
    "3. Si **Bonheur d'occasion** a plus de 400 pages\n",
    "4. Si **Les Plouffe** et **Poussière sur la ville** ont été publiés la même année"
   ]
  },
  {
   "cell_type": "code",
   "execution_count": null,
   "metadata": {},
   "outputs": [],
   "source": [
    "# Votre code ici\n"
   ]
  },
  {
   "cell_type": "markdown",
   "metadata": {},
   "source": [
    "## Exercice 6 : Structure conditionnelle if/else\n",
    "\n",
    "Écrivez un programme qui classe un texte selon sa taille :\n",
    "- \"Nouvelle\" si moins de 100 pages\n",
    "- \"Roman court\" si entre 100 et 200 pages\n",
    "- \"Roman\" si entre 201 et 400 pages  \n",
    "- \"Roman fleuve\" si plus de 400 pages\n",
    "\n",
    "Testez votre code avec les ouvrages suivants : \n",
    "- *La Guerre, Yes Sir!* (124 pages)\n",
    "- *Les Aurores montréales* (12 pages)\n",
    "- *La Grande Tribu. C'est la faute à Papineau* (874 pages)\n",
    "- *L'Hiver de force* (283 pages)\n"
   ]
  },
  {
   "cell_type": "code",
   "execution_count": null,
   "metadata": {},
   "outputs": [],
   "source": [
    "# Votre code ici\n"
   ]
  },
  {
   "cell_type": "markdown",
   "metadata": {},
   "source": [
    "## Exercice 7 : Boucles for avec listes\n",
    "\n",
    "Vous avez une liste des prix littéraires québécois et leurs années de création :\n",
    "\n",
    "```python\n",
    "prix_litteraires = {\n",
    "    \"Grand Prix du livre de Montréal\" : 1965,\n",
    "    \"Médaille de l'Académie des lettres du Québec\" : 1946, \n",
    "    \"Prix Arthur-Buies\" : 1978, \n",
    "    \"Prix du Cercle du livre de France\" : 1949, \n",
    "    \"Prix du Gouverneur général\" : 1959,\n",
    "    \"Prix France-Québec\" : 1998,\n",
    "    \"Prix littéraire des collégien·ne·s\" : 2004,\n",
    "    \"Prix Octave-Crémazie\" : 1980\n",
    "}\n",
    "```\n",
    "\n",
    "Écrivez une boucle qui :\n",
    "1. Affiche chaque prix avec son année de création\n",
    "2. Compte et affiche combien de prix ont été créés après 1960\n",
    "3. Trouve et affiche le prix le plus ancien"
   ]
  },
  {
   "cell_type": "code",
   "execution_count": null,
   "metadata": {},
   "outputs": [],
   "source": [
    "# Votre code ici\n"
   ]
  },
  {
   "cell_type": "markdown",
   "metadata": {},
   "source": [
    "## Exercice 8 : Fonctions simples\n",
    "\n",
    "Réécrivez le code de l'exercice 7 sous forme de trois fonctions : `annee_creation`, `combien_apres_1960` et `prix_plus_ancien`."
   ]
  },
  {
   "cell_type": "code",
   "execution_count": null,
   "metadata": {},
   "outputs": [],
   "source": [
    "# Votre code ici\n"
   ]
  },
  {
   "cell_type": "markdown",
   "metadata": {},
   "source": [
    "## Exercice 9 : Analyse de données littéraires\n",
    "\n",
    "Vous disposez des données suivantes sur des romans québécois :\n",
    "\n",
    "```python\n",
    "romans_quebecois = [\n",
    "    {\"titre\": \"Kamouraska\", \"auteur\": \"Anne Hébert\", \"annee\": 1970, \"pages\": 250},\n",
    "    {\"titre\": \"Les Fous de Bassan\", \"auteur\": \"Anne Hébert\", \"annee\": 1982, \"pages\": 285},\n",
    "    {\"titre\": \"L'Hiver de force\", \"auteur\": \"Réjean Ducharme\", \"annee\": 1973, \"pages\": 283},\n",
    "    {\"titre\": \"Volkswagen Blues\", \"auteur\": \"Jacques Poulin\", \"annee\": 1984, \"pages\": 290},\n",
    "    {\"titre\": \"La Guerre, Yes Sir!\", \"auteur\": \"Roch Carrier\", \"annee\": 1968, \"pages\": 124}\n",
    "]\n",
    "```\n",
    "\n",
    "Écrivez un programme qui :\n",
    "1. Affiche tous les romans publiés dans les années 1980\n",
    "2. Calcule et affiche la longueur moyenne des romans\n",
    "3. Trouve et affiche le roman le plus court et le plus long\n",
    "4. Compte combien d'auteurs différents sont représentés"
   ]
  },
  {
   "cell_type": "code",
   "execution_count": null,
   "metadata": {},
   "outputs": [],
   "source": [
    "# Votre code ici\n"
   ]
  },
  {
   "cell_type": "markdown",
   "metadata": {},
   "source": [
    "## Exercice 10 : Projet intégrateur - Bibliothèque personnelle\n",
    "\n",
    "Créez un programme complet pour gérer une petite bibliothèque de littérature québécoise. Votre programme doit :\n",
    "\n",
    "1. **Créer une fonction `ajouter_livre(bibliotheque, titre, auteur, annee, pages)`** qui ajoute un livre à la bibliothèque (représentée par une liste de dictionnaires)\n",
    "\n",
    "2. **Créer une fonction `rechercher_par_auteur(bibliotheque, auteur)`** qui retourne tous les livres d'un auteur donné\n",
    "\n",
    "3. **Créer une fonction `statistiques_bibliotheque(bibliotheque)`** qui affiche :\n",
    "   - Le nombre total de livres\n",
    "   - L'année du livre le plus ancien et le plus récent\n",
    "   - La longueur moyenne des livres\n",
    "   - Le top 3 des auteurs les plus représentés\n",
    "\n",
    "4. **Tester votre programme** en créant une bibliothèque avec au moins 8 livres d'auteurs québécois différents\n",
    "\n",
    "**Bonus :** Ajoutez une fonction qui recommande, selon le critère de votre choix, un livre parmi ceux de plus de 200 pages."
   ]
  },
  {
   "cell_type": "code",
   "execution_count": null,
   "metadata": {},
   "outputs": [],
   "source": [
    "# Votre code ici\n",
    "# Commencez par créer une liste vide pour votre bibliothèque\n",
    "ma_bibliotheque = []\n",
    "\n",
    "# Puis définissez vos fonctions\n",
    "\n",
    "# Enfin, testez votre programme\n"
   ]
  },
  {
   "cell_type": "markdown",
   "metadata": {},
   "source": [
    "## "
   ]
  },
  {
   "cell_type": "markdown",
   "metadata": {},
   "source": [
    "---\n",
    "\n",
    "## Bon travail!\n",
    "\n",
    "Avec les exercices qui précèdent, vous avez pu pratiquer :\n",
    "\n",
    "- La manipulation des types de données de base\n",
    "- L'utilisation des variables\n",
    "- Le travail avec les listes et dictionnaires\n",
    "- L'application des opérateurs et structures de contrôle\n",
    "- La création et l'utilisation de fonctions\n",
    "- L'analyse de données structurées\n",
    "\n",
    "N'oubliez pas d'**enregistrer** sur votre ordinateur le fichier d'exercices rempli (`File > Save Notebook As...`)"
   ]
  },
  {
   "cell_type": "code",
   "execution_count": null,
   "metadata": {},
   "outputs": [],
   "source": []
  }
 ],
 "metadata": {
  "kernelspec": {
   "display_name": "Python 3 (ipykernel)",
   "language": "python",
   "name": "python3"
  },
  "language_info": {
   "codemirror_mode": {
    "name": "ipython",
    "version": 3
   },
   "file_extension": ".py",
   "mimetype": "text/x-python",
   "name": "python",
   "nbconvert_exporter": "python",
   "pygments_lexer": "ipython3",
   "version": "3.11.7"
  }
 },
 "nbformat": 4,
 "nbformat_minor": 4
}
